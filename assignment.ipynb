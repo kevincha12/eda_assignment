{
 "cells": [
  {
   "cell_type": "markdown",
   "metadata": {},
   "source": [
    "# Assignment: Exploratory Data Analysis\n",
    "### `! git clone https://github.com/ds3001f25/eda_assignment.git`\n",
    "### Do Q1, Q2, and Q3."
   ]
  },
  {
   "cell_type": "markdown",
   "metadata": {},
   "source": [
    "## Initial Setup"
   ]
  },
  {
   "cell_type": "code",
   "execution_count": 72,
   "metadata": {},
   "outputs": [],
   "source": [
    "import pandas as pd\n",
    "import numpy as np\n",
    "import matplotlib.pyplot as plt\n",
    "import seaborn as sns"
   ]
  },
  {
   "cell_type": "markdown",
   "metadata": {},
   "source": [
    "## Q1 Stuff"
   ]
  },
  {
   "cell_type": "markdown",
   "metadata": {},
   "source": [
    "**Q1.** In class, we talked about how to compute the sample mean of a variable $X$,\n",
    "$$\n",
    "m(X) = \\dfrac{1}{N} \\sum_{i=1}^N x_i\n",
    "$$\n",
    "and sample covariance of two variables $X$ and $Y$,\n",
    "$$\n",
    "\\text{cov}(X,Y) = \\dfrac{1}{N} \\sum_{i=1}^N (x_i - m(X))(y_i - m(Y))).\n",
    "$$\n",
    "Recall, the sample variance of $X$ is\n",
    "$$\n",
    "s^2 = \\dfrac{1}{N} \\sum_{i=1}^N (x_i - m(X))^2.\n",
    "$$\n",
    "It can be very helpful to understand some basic properties of these statistics. If you want to write your calculations on a piece of paper, take a photo, and upload that to your GitHub repo, that's probably easiest.\n",
    "\n",
    "1. Show that $m(a + bX) = a+b \\times m(X)$.\n",
    "2. Show that $\\text{cov}(X,a+bY) = b \\times \\text{cov}(X,Y)$\n",
    "3. Show that $\\text{cov}(a+bX,a+bX) = b^2 \\text{cov}(X,X) $, and in particular that $\\text{cov}(X,X) = s^2 $.\n",
    "4. Instead of the mean, consider the median. Consider transformations that are non-decreasing (if $x\\ge x'$, then $g(x)\\ge g(x')$), like $2+5 \\times X$ or $\\text{arcsinh}(X)$. Is a non-decreasing transformation of the median the median of the transformed variable? Explain. Does your answer apply to any quantile? The IQR? The range? \n",
    "5. Consider a non-decreasing transformation $g()$. Is is always true that $m(g(X))= g(m(X))$?"
   ]
  },
  {
   "cell_type": "markdown",
   "metadata": {},
   "source": [
    "![Questions 1.1-1.3](images/hpb2gv-q1.1-1.3.jpg)"
   ]
  },
  {
   "cell_type": "markdown",
   "metadata": {},
   "source": [
    "4. Instead of the mean, consider the median. Consider transformations that are non-decreasing (if $x\\ge x'$, then $g(x)\\ge g(x')$), like $2+5 \\times X$ or $\\text{arcsinh}(X)$. Is a non-decreasing transformation of the median the median of the transformed variable? Explain. Does your answer apply to any quantile? The IQR? The range? \n",
    "\n",
    "Answer: \n",
    "\n",
    "I'll answer this question in two parts. Firstly, \"Is a non-decreasing transformation of the median the median of the transformed variable?\" I think the answer to this is that it depends on the set. So, if it is a set with an odd number of elements, then the non-decreasing transformation of the median should be equal the median of the transformed variable. This is because the median value should literally be one of the data points, so the values of the \"non-decreasing transformation of the median\" and the \"median of the transformation variable\" should be exactly equal. Now, notice I specified a set with an odd number of elements. I thought about it for a bit and realized though that this property does not necessarily hold for a set with an even number of elements AND where the transformation is non-linear. This is because medians for an even number of elements is calculated via the average between the two middle-most elements. If it is a linear transformation (take $2+5 \\times X$), we have already proved that $m(a+bX) = a + b \\times m(X)$, and thus the medians should match up. Let's say that we have a set of [1,3]. The median of this is 2. If we were to transform these elements with $2 + 5 \\times X$, we would then have the set of [7, 17]. The median of this is now 12, and applying the same transformation to the old median, we would similarly get 12. However, in the example of a non-linear transformation (like arcsinh), this no longer holds. [arcsinh(1), arcsinh(3)]'s median ends up being about 1.35, but arcsinh(2) is actually about 1.44. Thus, my conclusion and observation is that this property is only true IFF we are either dealing with a linear transformation (which should work regardless of element size) or have an odd number of elements (as an even number of elements does not work with a non-linear transformation).\n",
    "\n",
    "To answer the second part, I think this answer should apply to the quantiles and the range, as the quantiles are calculated via the \"median\" of the lower/upper halves of the data. However, in trying to answer this question, when I tried to see if the IQR held these properties, I found that it didn't even hold for a linear transformation of an odd number of elements. I tested [1,2,3,4,5] with the same linear transformation from earlier of $2 + 5 \\times X$ - the transformed set is [7,12,17,22,27]. For the regular set the IQR is 3, while the IQR of the transformed set is 15. Well... applying the transformation on the IQR of 3 results in a value of 17, which is NOT the same as the IQR of the transformed set. This is similar to the range - the range of the original set is 4, while the range of the transformed set is 20. Now, it may be coincidence so I won't make any definitive conclusion here, but it seems for linear transformations, the range and IQR are only affected by the multiplicative factor and not any additional factors (that is, in $2 + 5 \\times X$ only the $5$ affects the range and IQR). Again, no definitive conclusion here, but I can at lesat confidently say that my answer does not hold for the IQR or range due to the existence of this counter-example.\n",
    "\n",
    "Whew. That was too long :("
   ]
  },
  {
   "cell_type": "markdown",
   "metadata": {},
   "source": [
    "5. Consider a non-decreasing transformation $g()$. Is is always true that $m(g(X))= g(m(X))$?\n",
    "\n",
    "Answer:\n",
    "\n",
    "Intuitively, straight from the start I'm gonna say no because of the work I did for 1.4 above. Let's prove it though with a counter-example. Let's take the linear transformation... you guessed it... $2 + 5 \\times X$. I'm gonna tweak the set from [1,2,3,4,5] to instead be [1,2,4,7,9]. The biggest reason is just so that the average is no longer the median, so there's no weird potential interaction here. In any case, the mean here is 4.6. The transformed set is [7, 12, 22, 37, 47]. The mean of that is 25. So now let's do our transformation on the old mean, which actually does end up being 25! That's kinda surprising.\n",
    "\n",
    " Okay. Let's get serious and try a non-linear transformation (arcsinh). Same set - [1,2,4,7,9], and the transformed set ends up being [arcsinh(1),arcsinh(2),arcsinh(4),arcsinh(7),arcsinh(9)]. Again, the old mean is 4.6, and so we need the transformed set's mean to be equal to arcsinh(4.6). Let's see if this is true through code:"
   ]
  },
  {
   "cell_type": "code",
   "execution_count": 73,
   "metadata": {},
   "outputs": [
    {
     "name": "stdout",
     "output_type": "stream",
     "text": [
      "g(m(X)) = 2.2308141790009324 and m(g(X)) = 1.991457271280791\n"
     ]
    }
   ],
   "source": [
    "transformed_set = np.arcsinh([1,2,4,7,9])\n",
    "transformed_mean = np.mean(transformed_set)\n",
    "arcsinh_of_old_mean = np.arcsinh(4.6)\n",
    "print(f'g(m(X)) = {arcsinh_of_old_mean} and m(g(X)) = {transformed_mean}')"
   ]
  },
  {
   "cell_type": "markdown",
   "metadata": {},
   "source": [
    "And as we see, they're different. So no, it is not always true that $m(g(X))= g(m(X))$, because I just proved with a counter-example that it's not."
   ]
  },
  {
   "cell_type": "markdown",
   "metadata": {},
   "source": [
    "## Q2 Stuff"
   ]
  },
  {
   "cell_type": "markdown",
   "metadata": {},
   "source": [
    "**Q2.** This question uses the Airbnb data to practice making visualizations.\n",
    "\n",
    "  1. Load the `./data/airbnb_hw.csv` data with Pandas. This provides a dataset of AirBnB rental properties for New York City.  \n",
    "  2. What are are the dimensions of the data? How many observations are there? What are the variables included? Use `.head()` to examine the first few rows of data.\n",
    "  3. Cross tabulate `Room Type` and `Property Type`. What patterns do you see in what kinds of rentals are available? For which kinds of properties are private rooms more common than renting the entire property?\n",
    "  4. For `Price`, make a histogram, kernel density, box plot, and a statistical description of the variable. Are the data badly scaled? Are there many outliers? Use `log` to transform price into a new variable, `price_log`, and take these steps again.\n",
    "  5. Make a scatterplot of `price_log` and `Beds`. Describe what you see. Use `.groupby()` to compute a desciption of `Price` conditional on/grouped by the number of beds. Describe any patterns you see in the average price and standard deviation in prices.\n",
    "  6. Make a scatterplot of `price_log` and `Beds`, but color the graph by `Room Type` and `Property Type`. What patterns do you see? Compute a description of `Price` conditional on `Room Type` and `Property Type`. Which Room Type and Property Type have the highest prices on average? Which have the highest standard deviation? Does the mean or median appear to be a more reliable estimate of central tendency, and explain why?"
   ]
  },
  {
   "cell_type": "markdown",
   "metadata": {},
   "source": [
    "### Q2.1"
   ]
  },
  {
   "cell_type": "code",
   "execution_count": 74,
   "metadata": {},
   "outputs": [],
   "source": [
    "airbnb_df = pd.read_csv('./data/airbnb_hw.csv')"
   ]
  },
  {
   "cell_type": "markdown",
   "metadata": {},
   "source": [
    "### Q2.2"
   ]
  },
  {
   "cell_type": "code",
   "execution_count": 75,
   "metadata": {},
   "outputs": [
    {
     "name": "stdout",
     "output_type": "stream",
     "text": [
      "<class 'pandas.core.frame.DataFrame'>\n",
      "RangeIndex: 30478 entries, 0 to 30477\n",
      "Data columns (total 13 columns):\n",
      " #   Column                      Non-Null Count  Dtype  \n",
      "---  ------                      --------------  -----  \n",
      " 0   Host Id                     30478 non-null  int64  \n",
      " 1   Host Since                  30475 non-null  object \n",
      " 2   Name                        30478 non-null  object \n",
      " 3   Neighbourhood               30478 non-null  object \n",
      " 4   Property Type               30475 non-null  object \n",
      " 5   Review Scores Rating (bin)  22155 non-null  float64\n",
      " 6   Room Type                   30478 non-null  object \n",
      " 7   Zipcode                     30344 non-null  float64\n",
      " 8   Beds                        30393 non-null  float64\n",
      " 9   Number of Records           30478 non-null  int64  \n",
      " 10  Number Of Reviews           30478 non-null  int64  \n",
      " 11  Price                       30478 non-null  object \n",
      " 12  Review Scores Rating        22155 non-null  float64\n",
      "dtypes: float64(4), int64(3), object(6)\n",
      "memory usage: 3.0+ MB\n"
     ]
    }
   ],
   "source": [
    "airbnb_df.info()"
   ]
  },
  {
   "cell_type": "code",
   "execution_count": 76,
   "metadata": {},
   "outputs": [
    {
     "data": {
      "text/plain": [
       "(30478, 13)"
      ]
     },
     "execution_count": 76,
     "metadata": {},
     "output_type": "execute_result"
    }
   ],
   "source": [
    "airbnb_df.shape"
   ]
  },
  {
   "cell_type": "markdown",
   "metadata": {},
   "source": [
    "So to answer the questions in order: \\\n",
    "**What are the dimensions of the data?** - 30478 rows, 13 columns \\\n",
    "**How many observations are there?** - 30478 \\\n",
    "**What are the variables included?** - Host Id, Host Since, Name, Neighbourhood, Property Type, Review Scores Rating (bin), Room Type, Zipcode, Beds, Number of Records, Number of Reviews, Price, and Review Scores Rating; basically, host information, property information, and reviews/price logistics."
   ]
  },
  {
   "cell_type": "code",
   "execution_count": 77,
   "metadata": {},
   "outputs": [
    {
     "data": {
      "text/html": [
       "<div>\n",
       "<style scoped>\n",
       "    .dataframe tbody tr th:only-of-type {\n",
       "        vertical-align: middle;\n",
       "    }\n",
       "\n",
       "    .dataframe tbody tr th {\n",
       "        vertical-align: top;\n",
       "    }\n",
       "\n",
       "    .dataframe thead th {\n",
       "        text-align: right;\n",
       "    }\n",
       "</style>\n",
       "<table border=\"1\" class=\"dataframe\">\n",
       "  <thead>\n",
       "    <tr style=\"text-align: right;\">\n",
       "      <th></th>\n",
       "      <th>Host Id</th>\n",
       "      <th>Host Since</th>\n",
       "      <th>Name</th>\n",
       "      <th>Neighbourhood</th>\n",
       "      <th>Property Type</th>\n",
       "      <th>Review Scores Rating (bin)</th>\n",
       "      <th>Room Type</th>\n",
       "      <th>Zipcode</th>\n",
       "      <th>Beds</th>\n",
       "      <th>Number of Records</th>\n",
       "      <th>Number Of Reviews</th>\n",
       "      <th>Price</th>\n",
       "      <th>Review Scores Rating</th>\n",
       "    </tr>\n",
       "  </thead>\n",
       "  <tbody>\n",
       "    <tr>\n",
       "      <th>0</th>\n",
       "      <td>5162530</td>\n",
       "      <td>NaN</td>\n",
       "      <td>1 Bedroom in Prime Williamsburg</td>\n",
       "      <td>Brooklyn</td>\n",
       "      <td>Apartment</td>\n",
       "      <td>NaN</td>\n",
       "      <td>Entire home/apt</td>\n",
       "      <td>11249.0</td>\n",
       "      <td>1.0</td>\n",
       "      <td>1</td>\n",
       "      <td>0</td>\n",
       "      <td>145</td>\n",
       "      <td>NaN</td>\n",
       "    </tr>\n",
       "    <tr>\n",
       "      <th>1</th>\n",
       "      <td>33134899</td>\n",
       "      <td>NaN</td>\n",
       "      <td>Sunny, Private room in Bushwick</td>\n",
       "      <td>Brooklyn</td>\n",
       "      <td>Apartment</td>\n",
       "      <td>NaN</td>\n",
       "      <td>Private room</td>\n",
       "      <td>11206.0</td>\n",
       "      <td>1.0</td>\n",
       "      <td>1</td>\n",
       "      <td>1</td>\n",
       "      <td>37</td>\n",
       "      <td>NaN</td>\n",
       "    </tr>\n",
       "    <tr>\n",
       "      <th>2</th>\n",
       "      <td>39608626</td>\n",
       "      <td>NaN</td>\n",
       "      <td>Sunny Room in Harlem</td>\n",
       "      <td>Manhattan</td>\n",
       "      <td>Apartment</td>\n",
       "      <td>NaN</td>\n",
       "      <td>Private room</td>\n",
       "      <td>10032.0</td>\n",
       "      <td>1.0</td>\n",
       "      <td>1</td>\n",
       "      <td>1</td>\n",
       "      <td>28</td>\n",
       "      <td>NaN</td>\n",
       "    </tr>\n",
       "    <tr>\n",
       "      <th>3</th>\n",
       "      <td>500</td>\n",
       "      <td>6/26/2008</td>\n",
       "      <td>Gorgeous 1 BR with Private Balcony</td>\n",
       "      <td>Manhattan</td>\n",
       "      <td>Apartment</td>\n",
       "      <td>NaN</td>\n",
       "      <td>Entire home/apt</td>\n",
       "      <td>10024.0</td>\n",
       "      <td>3.0</td>\n",
       "      <td>1</td>\n",
       "      <td>0</td>\n",
       "      <td>199</td>\n",
       "      <td>NaN</td>\n",
       "    </tr>\n",
       "    <tr>\n",
       "      <th>4</th>\n",
       "      <td>500</td>\n",
       "      <td>6/26/2008</td>\n",
       "      <td>Trendy Times Square Loft</td>\n",
       "      <td>Manhattan</td>\n",
       "      <td>Apartment</td>\n",
       "      <td>95.0</td>\n",
       "      <td>Private room</td>\n",
       "      <td>10036.0</td>\n",
       "      <td>3.0</td>\n",
       "      <td>1</td>\n",
       "      <td>39</td>\n",
       "      <td>549</td>\n",
       "      <td>96.0</td>\n",
       "    </tr>\n",
       "  </tbody>\n",
       "</table>\n",
       "</div>"
      ],
      "text/plain": [
       "    Host Id Host Since                                Name Neighbourhood   \\\n",
       "0   5162530        NaN     1 Bedroom in Prime Williamsburg       Brooklyn   \n",
       "1  33134899        NaN     Sunny, Private room in Bushwick       Brooklyn   \n",
       "2  39608626        NaN                Sunny Room in Harlem      Manhattan   \n",
       "3       500  6/26/2008  Gorgeous 1 BR with Private Balcony      Manhattan   \n",
       "4       500  6/26/2008            Trendy Times Square Loft      Manhattan   \n",
       "\n",
       "  Property Type  Review Scores Rating (bin)        Room Type  Zipcode  Beds  \\\n",
       "0     Apartment                         NaN  Entire home/apt  11249.0   1.0   \n",
       "1     Apartment                         NaN     Private room  11206.0   1.0   \n",
       "2     Apartment                         NaN     Private room  10032.0   1.0   \n",
       "3     Apartment                         NaN  Entire home/apt  10024.0   3.0   \n",
       "4     Apartment                        95.0     Private room  10036.0   3.0   \n",
       "\n",
       "   Number of Records  Number Of Reviews Price  Review Scores Rating  \n",
       "0                  1                  0   145                   NaN  \n",
       "1                  1                  1    37                   NaN  \n",
       "2                  1                  1    28                   NaN  \n",
       "3                  1                  0   199                   NaN  \n",
       "4                  1                 39   549                  96.0  "
      ]
     },
     "execution_count": 77,
     "metadata": {},
     "output_type": "execute_result"
    }
   ],
   "source": [
    "airbnb_df.head()"
   ]
  },
  {
   "cell_type": "markdown",
   "metadata": {},
   "source": [
    "### Q2.3"
   ]
  },
  {
   "cell_type": "code",
   "execution_count": 78,
   "metadata": {},
   "outputs": [
    {
     "data": {
      "text/html": [
       "<div>\n",
       "<style scoped>\n",
       "    .dataframe tbody tr th:only-of-type {\n",
       "        vertical-align: middle;\n",
       "    }\n",
       "\n",
       "    .dataframe tbody tr th {\n",
       "        vertical-align: top;\n",
       "    }\n",
       "\n",
       "    .dataframe thead th {\n",
       "        text-align: right;\n",
       "    }\n",
       "</style>\n",
       "<table border=\"1\" class=\"dataframe\">\n",
       "  <thead>\n",
       "    <tr style=\"text-align: right;\">\n",
       "      <th>Property Type</th>\n",
       "      <th>Apartment</th>\n",
       "      <th>Bed &amp; Breakfast</th>\n",
       "      <th>Boat</th>\n",
       "      <th>Bungalow</th>\n",
       "      <th>Cabin</th>\n",
       "      <th>Camper/RV</th>\n",
       "      <th>Castle</th>\n",
       "      <th>Chalet</th>\n",
       "      <th>Condominium</th>\n",
       "      <th>Dorm</th>\n",
       "      <th>House</th>\n",
       "      <th>Hut</th>\n",
       "      <th>Lighthouse</th>\n",
       "      <th>Loft</th>\n",
       "      <th>Other</th>\n",
       "      <th>Tent</th>\n",
       "      <th>Townhouse</th>\n",
       "      <th>Treehouse</th>\n",
       "      <th>Villa</th>\n",
       "      <th>NaN</th>\n",
       "    </tr>\n",
       "    <tr>\n",
       "      <th>Room Type</th>\n",
       "      <th></th>\n",
       "      <th></th>\n",
       "      <th></th>\n",
       "      <th></th>\n",
       "      <th></th>\n",
       "      <th></th>\n",
       "      <th></th>\n",
       "      <th></th>\n",
       "      <th></th>\n",
       "      <th></th>\n",
       "      <th></th>\n",
       "      <th></th>\n",
       "      <th></th>\n",
       "      <th></th>\n",
       "      <th></th>\n",
       "      <th></th>\n",
       "      <th></th>\n",
       "      <th></th>\n",
       "      <th></th>\n",
       "      <th></th>\n",
       "    </tr>\n",
       "  </thead>\n",
       "  <tbody>\n",
       "    <tr>\n",
       "      <th>Entire home/apt</th>\n",
       "      <td>15669</td>\n",
       "      <td>13</td>\n",
       "      <td>7</td>\n",
       "      <td>4</td>\n",
       "      <td>1</td>\n",
       "      <td>6</td>\n",
       "      <td>0</td>\n",
       "      <td>0</td>\n",
       "      <td>72</td>\n",
       "      <td>4</td>\n",
       "      <td>752</td>\n",
       "      <td>0</td>\n",
       "      <td>1</td>\n",
       "      <td>392</td>\n",
       "      <td>14</td>\n",
       "      <td>0</td>\n",
       "      <td>83</td>\n",
       "      <td>0</td>\n",
       "      <td>4</td>\n",
       "      <td>2</td>\n",
       "    </tr>\n",
       "    <tr>\n",
       "      <th>Private room</th>\n",
       "      <td>10748</td>\n",
       "      <td>155</td>\n",
       "      <td>1</td>\n",
       "      <td>0</td>\n",
       "      <td>1</td>\n",
       "      <td>1</td>\n",
       "      <td>1</td>\n",
       "      <td>1</td>\n",
       "      <td>22</td>\n",
       "      <td>16</td>\n",
       "      <td>1258</td>\n",
       "      <td>2</td>\n",
       "      <td>0</td>\n",
       "      <td>312</td>\n",
       "      <td>29</td>\n",
       "      <td>4</td>\n",
       "      <td>52</td>\n",
       "      <td>1</td>\n",
       "      <td>4</td>\n",
       "      <td>1</td>\n",
       "    </tr>\n",
       "    <tr>\n",
       "      <th>Shared room</th>\n",
       "      <td>685</td>\n",
       "      <td>12</td>\n",
       "      <td>0</td>\n",
       "      <td>0</td>\n",
       "      <td>0</td>\n",
       "      <td>0</td>\n",
       "      <td>0</td>\n",
       "      <td>0</td>\n",
       "      <td>0</td>\n",
       "      <td>11</td>\n",
       "      <td>80</td>\n",
       "      <td>0</td>\n",
       "      <td>0</td>\n",
       "      <td>49</td>\n",
       "      <td>4</td>\n",
       "      <td>0</td>\n",
       "      <td>1</td>\n",
       "      <td>3</td>\n",
       "      <td>0</td>\n",
       "      <td>0</td>\n",
       "    </tr>\n",
       "  </tbody>\n",
       "</table>\n",
       "</div>"
      ],
      "text/plain": [
       "Property Type    Apartment  Bed & Breakfast  Boat  Bungalow  Cabin  Camper/RV  \\\n",
       "Room Type                                                                       \n",
       "Entire home/apt      15669               13     7         4      1          6   \n",
       "Private room         10748              155     1         0      1          1   \n",
       "Shared room            685               12     0         0      0          0   \n",
       "\n",
       "Property Type    Castle  Chalet  Condominium  Dorm  House  Hut  Lighthouse  \\\n",
       "Room Type                                                                    \n",
       "Entire home/apt       0       0           72     4    752    0           1   \n",
       "Private room          1       1           22    16   1258    2           0   \n",
       "Shared room           0       0            0    11     80    0           0   \n",
       "\n",
       "Property Type    Loft  Other  Tent  Townhouse  Treehouse  Villa  NaN  \n",
       "Room Type                                                             \n",
       "Entire home/apt   392     14     0         83          0      4    2  \n",
       "Private room      312     29     4         52          1      4    1  \n",
       "Shared room        49      4     0          1          3      0    0  "
      ]
     },
     "execution_count": 78,
     "metadata": {},
     "output_type": "execute_result"
    }
   ],
   "source": [
    "pd.crosstab(airbnb_df['Room Type'], airbnb_df['Property Type'], dropna=False)"
   ]
  },
  {
   "cell_type": "markdown",
   "metadata": {},
   "source": [
    "There are a couple trends here. Firstly, there are a TON of apartment listings that end up making the majority of the airbnb listings data. Another pattern is that there are more entire apartments than simply just private rooms, but for Bed & Breakfast and House there seem to be more private rooms than entire homes (which make sense). There don't seem to be that many shared rooms for any property type, which makes sense since those are often undesirable. Beyond this, there aren't any super obvious patterns as Apartment & House listings seem to dominate the airbnb listing market.\n",
    "\n",
    "As noted earlier, private rooms are more common than renting the whole property for Bed & Breakfast's and House. Some smaller (but still notable ones) include Dorm, Castle, Other, and Tent as having more private rooms (but many of these also make a lot of sense)."
   ]
  },
  {
   "cell_type": "markdown",
   "metadata": {},
   "source": [
    "### Q2.4"
   ]
  },
  {
   "cell_type": "markdown",
   "metadata": {},
   "source": [
    "So... as we already know from the wrangling assignment, the `Price` column in this dataset has the issue that there are values with commas in them to denote numbers greater than 999! Thus, I'm going to go ahead and do exactly what I did from the wrangling assignment to clean the data before I try plotting the `Price`."
   ]
  },
  {
   "cell_type": "code",
   "execution_count": 79,
   "metadata": {},
   "outputs": [],
   "source": [
    "# i literally yoinked these from my wrangling assignment, hope thats okay :)\n",
    "modified_airbnb_df = airbnb_df.copy()\n",
    "modified_airbnb_df['Price'] = modified_airbnb_df['Price'].replace({',': ''}, regex=True)\n",
    "modified_airbnb_df['Price'] = pd.to_numeric(modified_airbnb_df['Price'])"
   ]
  },
  {
   "cell_type": "code",
   "execution_count": 80,
   "metadata": {},
   "outputs": [
    {
     "data": {
      "text/plain": [
       "<Axes: >"
      ]
     },
     "execution_count": 80,
     "metadata": {},
     "output_type": "execute_result"
    },
    {
     "data": {
      "image/png": "[encoded data removed]",
      "text/plain": [
       "<Figure size 640x480 with 1 Axes>"
      ]
     },
     "metadata": {},
     "output_type": "display_data"
    }
   ],
   "source": [
    "modified_airbnb_df['Price'].hist()"
   ]
  },
  {
   "cell_type": "code",
   "execution_count": 81,
   "metadata": {},
   "outputs": [
    {
     "data": {
      "text/plain": [
       "<Axes: ylabel='Density'>"
      ]
     },
     "execution_count": 81,
     "metadata": {},
     "output_type": "execute_result"
    },
    {
     "data": {
      "image/png": "[encoded data removed]",
      "text/plain": [
       "<Figure size 640x480 with 1 Axes>"
      ]
     },
     "metadata": {},
     "output_type": "display_data"
    }
   ],
   "source": [
    "modified_airbnb_df['Price'].plot.density()"
   ]
  },
  {
   "cell_type": "code",
   "execution_count": 82,
   "metadata": {},
   "outputs": [
    {
     "data": {
      "text/plain": [
       "<Axes: >"
      ]
     },
     "execution_count": 82,
     "metadata": {},
     "output_type": "execute_result"
    },
    {
     "data": {
      "image/png": "[encoded data removed]",
      "text/plain": [
       "<Figure size 640x480 with 1 Axes>"
      ]
     },
     "metadata": {},
     "output_type": "display_data"
    }
   ],
   "source": [
    "modified_airbnb_df['Price'].plot.box()"
   ]
  },
  {
   "cell_type": "code",
   "execution_count": 83,
   "metadata": {},
   "outputs": [
    {
     "data": {
      "text/plain": [
       "count    30478.000000\n",
       "mean       163.589737\n",
       "std        197.785454\n",
       "min         10.000000\n",
       "25%         80.000000\n",
       "50%        125.000000\n",
       "75%        195.000000\n",
       "max      10000.000000\n",
       "Name: Price, dtype: float64"
      ]
     },
     "execution_count": 83,
     "metadata": {},
     "output_type": "execute_result"
    }
   ],
   "source": [
    "modified_airbnb_df['Price'].describe()"
   ]
  },
  {
   "cell_type": "markdown",
   "metadata": {},
   "source": [
    "Yes, the data is scaled extremely poorly. As shown by all three plots, the majority of the data is centralized towards the lower values with a couple outlier high values. This is further supported since the statistical description shows that the mean listing price is 163 with a median of 125 and 75th percentile of 195, but the maximum highest price in here is actually 10000. It's even more evident by the box plot that these values are extremely poorly scaled. Let's fix that by enforcing logs!"
   ]
  },
  {
   "cell_type": "code",
   "execution_count": 84,
   "metadata": {},
   "outputs": [],
   "source": [
    "price_log = np.log(modified_airbnb_df['Price'])"
   ]
  },
  {
   "cell_type": "code",
   "execution_count": 85,
   "metadata": {},
   "outputs": [
    {
     "data": {
      "text/plain": [
       "<Axes: >"
      ]
     },
     "execution_count": 85,
     "metadata": {},
     "output_type": "execute_result"
    },
    {
     "data": {
      "image/png": "[encoded data removed]",
      "text/plain": [
       "<Figure size 640x480 with 1 Axes>"
      ]
     },
     "metadata": {},
     "output_type": "display_data"
    }
   ],
   "source": [
    "price_log.hist()"
   ]
  },
  {
   "cell_type": "code",
   "execution_count": null,
   "metadata": {},
   "outputs": [],
   "source": [
    "price_log.plot.density()"
   ]
  },
  {
   "cell_type": "code",
   "execution_count": null,
   "metadata": {},
   "outputs": [
    {
     "data": {
      "text/plain": [
       "<Axes: >"
      ]
     },
     "execution_count": 17,
     "metadata": {},
     "output_type": "execute_result"
    },
    {
     "data": {
      "image/png": "[encoded data removed]",
      "text/plain": [
       "<Figure size 640x480 with 1 Axes>"
      ]
     },
     "metadata": {},
     "output_type": "display_data"
    }
   ],
   "source": [
    "price_log.plot.box()"
   ]
  },
  {
   "cell_type": "code",
   "execution_count": null,
   "metadata": {},
   "outputs": [
    {
     "data": {
      "text/plain": [
       "count    30478.000000\n",
       "mean         4.860495\n",
       "std          0.627704\n",
       "min          2.302585\n",
       "25%          4.382027\n",
       "50%          4.828314\n",
       "75%          5.273000\n",
       "max          9.210340\n",
       "Name: Price, dtype: float64"
      ]
     },
     "execution_count": 18,
     "metadata": {},
     "output_type": "execute_result"
    }
   ],
   "source": [
    "price_log.describe()"
   ]
  },
  {
   "cell_type": "markdown",
   "metadata": {},
   "source": [
    "The log of the data looks much much better! Now it is scaled to a degree that doesn't look absolutely terrible. Yes, there are a lot of outliers in the box plot, but at the very least the histogram and kernel density plot both look good."
   ]
  },
  {
   "cell_type": "markdown",
   "metadata": {},
   "source": [
    "### Q2.5"
   ]
  },
  {
   "cell_type": "code",
   "execution_count": null,
   "metadata": {},
   "outputs": [],
   "source": [
    "modified_airbnb_df['price_log'] = price_log"
   ]
  },
  {
   "cell_type": "code",
   "execution_count": null,
   "metadata": {},
   "outputs": [
    {
     "data": {
      "text/plain": [
       "<Axes: xlabel='price_log', ylabel='Beds'>"
      ]
     },
     "execution_count": 20,
     "metadata": {},
     "output_type": "execute_result"
    },
    {
     "data": {
      "image/png": "[encoded data removed]",
      "text/plain": [
       "<Figure size 640x480 with 1 Axes>"
      ]
     },
     "metadata": {},
     "output_type": "display_data"
    }
   ],
   "source": [
    "modified_airbnb_df.plot.scatter(x='price_log', y='Beds')"
   ]
  },
  {
   "cell_type": "markdown",
   "metadata": {},
   "source": [
    "To be honest, it's pretty difficult to actually have super meaningful analysis here since the price has been logarithmically transformed, but basically what I'm seeing is a small trend where lower priced listings have less beds, and then as we get to the middle portion of the scaled pricing there tends to be listings with more beds on top of the less beds listings, and then a slight trend where if we get even more expensive for scaled pricing there tends to be less beds again. There are a few outliers where there are listings with a lot of beds, with somehow no data points with 14 beds. There seems to be super dense clumps for the 1/2/3 bed listings around the 4-5 `price_log` region."
   ]
  },
  {
   "cell_type": "code",
   "execution_count": null,
   "metadata": {},
   "outputs": [
    {
     "data": {
      "text/html": [
       "<div>\n",
       "<style scoped>\n",
       "    .dataframe tbody tr th:only-of-type {\n",
       "        vertical-align: middle;\n",
       "    }\n",
       "\n",
       "    .dataframe tbody tr th {\n",
       "        vertical-align: top;\n",
       "    }\n",
       "\n",
       "    .dataframe thead th {\n",
       "        text-align: right;\n",
       "    }\n",
       "</style>\n",
       "<table border=\"1\" class=\"dataframe\">\n",
       "  <thead>\n",
       "    <tr style=\"text-align: right;\">\n",
       "      <th></th>\n",
       "      <th>count</th>\n",
       "      <th>mean</th>\n",
       "      <th>std</th>\n",
       "      <th>min</th>\n",
       "      <th>25%</th>\n",
       "      <th>50%</th>\n",
       "      <th>75%</th>\n",
       "      <th>max</th>\n",
       "    </tr>\n",
       "    <tr>\n",
       "      <th>Beds</th>\n",
       "      <th></th>\n",
       "      <th></th>\n",
       "      <th></th>\n",
       "      <th></th>\n",
       "      <th></th>\n",
       "      <th></th>\n",
       "      <th></th>\n",
       "      <th></th>\n",
       "    </tr>\n",
       "  </thead>\n",
       "  <tbody>\n",
       "    <tr>\n",
       "      <th>0.0</th>\n",
       "      <td>2.0</td>\n",
       "      <td>4.476755</td>\n",
       "      <td>0.427613</td>\n",
       "      <td>4.174387</td>\n",
       "      <td>4.325571</td>\n",
       "      <td>4.476755</td>\n",
       "      <td>4.627939</td>\n",
       "      <td>4.779123</td>\n",
       "    </tr>\n",
       "    <tr>\n",
       "      <th>1.0</th>\n",
       "      <td>20344.0</td>\n",
       "      <td>4.686977</td>\n",
       "      <td>0.539666</td>\n",
       "      <td>2.302585</td>\n",
       "      <td>4.317488</td>\n",
       "      <td>4.605170</td>\n",
       "      <td>5.043425</td>\n",
       "      <td>8.294050</td>\n",
       "    </tr>\n",
       "    <tr>\n",
       "      <th>2.0</th>\n",
       "      <td>6610.0</td>\n",
       "      <td>5.094504</td>\n",
       "      <td>0.580425</td>\n",
       "      <td>3.218876</td>\n",
       "      <td>4.744932</td>\n",
       "      <td>5.075174</td>\n",
       "      <td>5.416100</td>\n",
       "      <td>9.210340</td>\n",
       "    </tr>\n",
       "    <tr>\n",
       "      <th>3.0</th>\n",
       "      <td>2071.0</td>\n",
       "      <td>5.340837</td>\n",
       "      <td>0.644742</td>\n",
       "      <td>3.258097</td>\n",
       "      <td>4.941642</td>\n",
       "      <td>5.298317</td>\n",
       "      <td>5.703782</td>\n",
       "      <td>8.517193</td>\n",
       "    </tr>\n",
       "    <tr>\n",
       "      <th>4.0</th>\n",
       "      <td>783.0</td>\n",
       "      <td>5.480463</td>\n",
       "      <td>0.721360</td>\n",
       "      <td>3.295837</td>\n",
       "      <td>5.010635</td>\n",
       "      <td>5.509388</td>\n",
       "      <td>5.926926</td>\n",
       "      <td>8.779557</td>\n",
       "    </tr>\n",
       "    <tr>\n",
       "      <th>5.0</th>\n",
       "      <td>284.0</td>\n",
       "      <td>5.669484</td>\n",
       "      <td>0.735623</td>\n",
       "      <td>3.555348</td>\n",
       "      <td>5.245705</td>\n",
       "      <td>5.669881</td>\n",
       "      <td>6.109248</td>\n",
       "      <td>8.987197</td>\n",
       "    </tr>\n",
       "    <tr>\n",
       "      <th>6.0</th>\n",
       "      <td>177.0</td>\n",
       "      <td>5.651790</td>\n",
       "      <td>0.824358</td>\n",
       "      <td>3.555348</td>\n",
       "      <td>5.293305</td>\n",
       "      <td>5.616771</td>\n",
       "      <td>6.052089</td>\n",
       "      <td>7.919356</td>\n",
       "    </tr>\n",
       "    <tr>\n",
       "      <th>7.0</th>\n",
       "      <td>45.0</td>\n",
       "      <td>5.617009</td>\n",
       "      <td>0.693481</td>\n",
       "      <td>4.007333</td>\n",
       "      <td>5.176150</td>\n",
       "      <td>5.703782</td>\n",
       "      <td>6.098074</td>\n",
       "      <td>6.802395</td>\n",
       "    </tr>\n",
       "    <tr>\n",
       "      <th>8.0</th>\n",
       "      <td>24.0</td>\n",
       "      <td>5.956200</td>\n",
       "      <td>0.862418</td>\n",
       "      <td>4.007333</td>\n",
       "      <td>5.495121</td>\n",
       "      <td>5.857933</td>\n",
       "      <td>6.176138</td>\n",
       "      <td>8.294050</td>\n",
       "    </tr>\n",
       "    <tr>\n",
       "      <th>9.0</th>\n",
       "      <td>15.0</td>\n",
       "      <td>6.341645</td>\n",
       "      <td>0.461176</td>\n",
       "      <td>5.164786</td>\n",
       "      <td>6.098011</td>\n",
       "      <td>6.476972</td>\n",
       "      <td>6.636468</td>\n",
       "      <td>6.956545</td>\n",
       "    </tr>\n",
       "    <tr>\n",
       "      <th>10.0</th>\n",
       "      <td>16.0</td>\n",
       "      <td>5.945514</td>\n",
       "      <td>0.762220</td>\n",
       "      <td>4.553877</td>\n",
       "      <td>5.673034</td>\n",
       "      <td>6.009872</td>\n",
       "      <td>6.559853</td>\n",
       "      <td>6.956545</td>\n",
       "    </tr>\n",
       "    <tr>\n",
       "      <th>11.0</th>\n",
       "      <td>5.0</td>\n",
       "      <td>5.913390</td>\n",
       "      <td>0.996967</td>\n",
       "      <td>4.605170</td>\n",
       "      <td>5.393628</td>\n",
       "      <td>5.883322</td>\n",
       "      <td>6.476972</td>\n",
       "      <td>7.207860</td>\n",
       "    </tr>\n",
       "    <tr>\n",
       "      <th>12.0</th>\n",
       "      <td>4.0</td>\n",
       "      <td>6.161928</td>\n",
       "      <td>1.595714</td>\n",
       "      <td>5.010635</td>\n",
       "      <td>5.314734</td>\n",
       "      <td>5.559941</td>\n",
       "      <td>6.407135</td>\n",
       "      <td>8.517193</td>\n",
       "    </tr>\n",
       "    <tr>\n",
       "      <th>16.0</th>\n",
       "      <td>13.0</td>\n",
       "      <td>6.312746</td>\n",
       "      <td>0.877963</td>\n",
       "      <td>4.644391</td>\n",
       "      <td>5.857933</td>\n",
       "      <td>6.437752</td>\n",
       "      <td>6.907755</td>\n",
       "      <td>7.313220</td>\n",
       "    </tr>\n",
       "  </tbody>\n",
       "</table>\n",
       "</div>"
      ],
      "text/plain": [
       "        count      mean       std       min       25%       50%       75%  \\\n",
       "Beds                                                                        \n",
       "0.0       2.0  4.476755  0.427613  4.174387  4.325571  4.476755  4.627939   \n",
       "1.0   20344.0  4.686977  0.539666  2.302585  4.317488  4.605170  5.043425   \n",
       "2.0    6610.0  5.094504  0.580425  3.218876  4.744932  5.075174  5.416100   \n",
       "3.0    2071.0  5.340837  0.644742  3.258097  4.941642  5.298317  5.703782   \n",
       "4.0     783.0  5.480463  0.721360  3.295837  5.010635  5.509388  5.926926   \n",
       "5.0     284.0  5.669484  0.735623  3.555348  5.245705  5.669881  6.109248   \n",
       "6.0     177.0  5.651790  0.824358  3.555348  5.293305  5.616771  6.052089   \n",
       "7.0      45.0  5.617009  0.693481  4.007333  5.176150  5.703782  6.098074   \n",
       "8.0      24.0  5.956200  0.862418  4.007333  5.495121  5.857933  6.176138   \n",
       "9.0      15.0  6.341645  0.461176  5.164786  6.098011  6.476972  6.636468   \n",
       "10.0     16.0  5.945514  0.762220  4.553877  5.673034  6.009872  6.559853   \n",
       "11.0      5.0  5.913390  0.996967  4.605170  5.393628  5.883322  6.476972   \n",
       "12.0      4.0  6.161928  1.595714  5.010635  5.314734  5.559941  6.407135   \n",
       "16.0     13.0  6.312746  0.877963  4.644391  5.857933  6.437752  6.907755   \n",
       "\n",
       "           max  \n",
       "Beds            \n",
       "0.0   4.779123  \n",
       "1.0   8.294050  \n",
       "2.0   9.210340  \n",
       "3.0   8.517193  \n",
       "4.0   8.779557  \n",
       "5.0   8.987197  \n",
       "6.0   7.919356  \n",
       "7.0   6.802395  \n",
       "8.0   8.294050  \n",
       "9.0   6.956545  \n",
       "10.0  6.956545  \n",
       "11.0  7.207860  \n",
       "12.0  8.517193  \n",
       "16.0  7.313220  "
      ]
     },
     "execution_count": 21,
     "metadata": {},
     "output_type": "execute_result"
    }
   ],
   "source": [
    "modified_airbnb_df['price_log'].groupby(modified_airbnb_df['Beds']).describe()"
   ]
  },
  {
   "cell_type": "markdown",
   "metadata": {},
   "source": [
    "So for the means, it seems that there is a trend where the mean of the price_log increases as the number of beds does. This makes a lot of sense, as less beds tend to generally be cheaper on airbnb (and typically may even indicate a smaller arrangement). As for the standard deviation, the amount of variability also trends to increase as the number of beds increase. A potential no-substance theoretical reason for this could be that with smaller bed counts they're typically run of the mill listings that tend to be priced about the same for competitive reasons, hence the low variability, but with higher bed counts they're more unique listings that might have special features which propagate higher variability in the prices."
   ]
  },
  {
   "cell_type": "markdown",
   "metadata": {},
   "source": [
    "### Q2.6"
   ]
  },
  {
   "cell_type": "markdown",
   "metadata": {},
   "source": [
    "Ok based on this question it looks like you HAVE to make this plot with seaborn because the notebook provided for EDA only shows colors with seaborn."
   ]
  },
  {
   "cell_type": "code",
   "execution_count": null,
   "metadata": {},
   "outputs": [
    {
     "data": {
      "text/plain": [
       "<matplotlib.legend.Legend at 0x1ae6362b110>"
      ]
     },
     "execution_count": 71,
     "metadata": {},
     "output_type": "execute_result"
    },
    {
     "data": {
      "image/png": "[encoded data removed]",
      "text/plain": [
       "<Figure size 640x480 with 1 Axes>"
      ]
     },
     "metadata": {},
     "output_type": "display_data"
    }
   ],
   "source": [
    "# gonna add a title because seaborn is goated and makes it easier than this stupid built-in pandas plotting thing\n",
    "price_bed_plot = sns.scatterplot(data=modified_airbnb_df, x='price_log', y='Beds', hue=modified_airbnb_df['Room Type'], style=modified_airbnb_df['Property Type']).set(title='Scatterplot of Log of Prices vs Beds', xlabel='Log of Price', ylabel='Beds')\n",
    "# I also gotta move this legend because it's cutting off the graph and that looks really bad\n",
    "plt.legend(bbox_to_anchor=(1.05, 1))"
   ]
  },
  {
   "cell_type": "markdown",
   "metadata": {},
   "source": [
    "Honestly, this graph is super hard to read because there are such an ungodly number of property types here, so it's hard to comment regarding property types. However, there is an obvious trend for the room type. There are three clear clumps - on the cheapest side of the `price_log` spectrum is where most of the shared room listings are, which makes sense as shared rooms are cheap due to their shared space. Then, a little bit more expensive, there are the private room listings, which are more expensive than the shared rooms for obvious reasons. Finally, there's the entire homes as the last blob, which tend to run a range of more expensive. A lot of the listings also seem to be circle based, which mostly indicate Apartments (with a few house \"X's\" sprinkled throughout)."
   ]
  },
  {
   "cell_type": "code",
   "execution_count": null,
   "metadata": {},
   "outputs": [
    {
     "data": {
      "text/html": [
       "<div>\n",
       "<style scoped>\n",
       "    .dataframe tbody tr th:only-of-type {\n",
       "        vertical-align: middle;\n",
       "    }\n",
       "\n",
       "    .dataframe tbody tr th {\n",
       "        vertical-align: top;\n",
       "    }\n",
       "\n",
       "    .dataframe thead tr th {\n",
       "        text-align: left;\n",
       "    }\n",
       "\n",
       "    .dataframe thead tr:last-of-type th {\n",
       "        text-align: right;\n",
       "    }\n",
       "</style>\n",
       "<table border=\"1\" class=\"dataframe\">\n",
       "  <thead>\n",
       "    <tr>\n",
       "      <th></th>\n",
       "      <th></th>\n",
       "      <th colspan=\"8\" halign=\"left\">Price</th>\n",
       "    </tr>\n",
       "    <tr>\n",
       "      <th></th>\n",
       "      <th></th>\n",
       "      <th>count</th>\n",
       "      <th>mean</th>\n",
       "      <th>std</th>\n",
       "      <th>min</th>\n",
       "      <th>25%</th>\n",
       "      <th>50%</th>\n",
       "      <th>75%</th>\n",
       "      <th>max</th>\n",
       "    </tr>\n",
       "    <tr>\n",
       "      <th>Room Type</th>\n",
       "      <th>Property Type</th>\n",
       "      <th></th>\n",
       "      <th></th>\n",
       "      <th></th>\n",
       "      <th></th>\n",
       "      <th></th>\n",
       "      <th></th>\n",
       "      <th></th>\n",
       "      <th></th>\n",
       "    </tr>\n",
       "  </thead>\n",
       "  <tbody>\n",
       "    <tr>\n",
       "      <th rowspan=\"14\" valign=\"top\">Entire home/apt</th>\n",
       "      <th>Apartment</th>\n",
       "      <td>15669.0</td>\n",
       "      <td>213.224839</td>\n",
       "      <td>218.097834</td>\n",
       "      <td>10.0</td>\n",
       "      <td>135.00</td>\n",
       "      <td>175.0</td>\n",
       "      <td>235.00</td>\n",
       "      <td>10000.0</td>\n",
       "    </tr>\n",
       "    <tr>\n",
       "      <th>Bed &amp; Breakfast</th>\n",
       "      <td>13.0</td>\n",
       "      <td>184.538462</td>\n",
       "      <td>119.814172</td>\n",
       "      <td>85.0</td>\n",
       "      <td>121.00</td>\n",
       "      <td>130.0</td>\n",
       "      <td>220.00</td>\n",
       "      <td>525.0</td>\n",
       "    </tr>\n",
       "    <tr>\n",
       "      <th>Boat</th>\n",
       "      <td>7.0</td>\n",
       "      <td>158.428571</td>\n",
       "      <td>51.110524</td>\n",
       "      <td>100.0</td>\n",
       "      <td>122.50</td>\n",
       "      <td>150.0</td>\n",
       "      <td>182.00</td>\n",
       "      <td>250.0</td>\n",
       "    </tr>\n",
       "    <tr>\n",
       "      <th>Bungalow</th>\n",
       "      <td>4.0</td>\n",
       "      <td>150.750000</td>\n",
       "      <td>46.464144</td>\n",
       "      <td>87.0</td>\n",
       "      <td>133.50</td>\n",
       "      <td>160.5</td>\n",
       "      <td>177.75</td>\n",
       "      <td>195.0</td>\n",
       "    </tr>\n",
       "    <tr>\n",
       "      <th>Cabin</th>\n",
       "      <td>1.0</td>\n",
       "      <td>250.000000</td>\n",
       "      <td>NaN</td>\n",
       "      <td>250.0</td>\n",
       "      <td>250.00</td>\n",
       "      <td>250.0</td>\n",
       "      <td>250.00</td>\n",
       "      <td>250.0</td>\n",
       "    </tr>\n",
       "    <tr>\n",
       "      <th>Camper/RV</th>\n",
       "      <td>6.0</td>\n",
       "      <td>114.333333</td>\n",
       "      <td>107.685963</td>\n",
       "      <td>45.0</td>\n",
       "      <td>49.00</td>\n",
       "      <td>74.0</td>\n",
       "      <td>114.00</td>\n",
       "      <td>325.0</td>\n",
       "    </tr>\n",
       "    <tr>\n",
       "      <th>Condominium</th>\n",
       "      <td>72.0</td>\n",
       "      <td>304.861111</td>\n",
       "      <td>266.197497</td>\n",
       "      <td>80.0</td>\n",
       "      <td>155.00</td>\n",
       "      <td>200.0</td>\n",
       "      <td>375.00</td>\n",
       "      <td>1990.0</td>\n",
       "    </tr>\n",
       "    <tr>\n",
       "      <th>Dorm</th>\n",
       "      <td>4.0</td>\n",
       "      <td>44.250000</td>\n",
       "      <td>24.060687</td>\n",
       "      <td>30.0</td>\n",
       "      <td>30.00</td>\n",
       "      <td>33.5</td>\n",
       "      <td>47.75</td>\n",
       "      <td>80.0</td>\n",
       "    </tr>\n",
       "    <tr>\n",
       "      <th>House</th>\n",
       "      <td>752.0</td>\n",
       "      <td>297.263298</td>\n",
       "      <td>468.409428</td>\n",
       "      <td>27.0</td>\n",
       "      <td>126.50</td>\n",
       "      <td>195.0</td>\n",
       "      <td>300.00</td>\n",
       "      <td>8000.0</td>\n",
       "    </tr>\n",
       "    <tr>\n",
       "      <th>Lighthouse</th>\n",
       "      <td>1.0</td>\n",
       "      <td>39.000000</td>\n",
       "      <td>NaN</td>\n",
       "      <td>39.0</td>\n",
       "      <td>39.00</td>\n",
       "      <td>39.0</td>\n",
       "      <td>39.00</td>\n",
       "      <td>39.0</td>\n",
       "    </tr>\n",
       "    <tr>\n",
       "      <th>Loft</th>\n",
       "      <td>392.0</td>\n",
       "      <td>330.510204</td>\n",
       "      <td>321.519721</td>\n",
       "      <td>55.0</td>\n",
       "      <td>160.00</td>\n",
       "      <td>225.0</td>\n",
       "      <td>379.00</td>\n",
       "      <td>3000.0</td>\n",
       "    </tr>\n",
       "    <tr>\n",
       "      <th>Other</th>\n",
       "      <td>14.0</td>\n",
       "      <td>843.428571</td>\n",
       "      <td>1133.062271</td>\n",
       "      <td>66.0</td>\n",
       "      <td>140.00</td>\n",
       "      <td>300.0</td>\n",
       "      <td>1112.50</td>\n",
       "      <td>4000.0</td>\n",
       "    </tr>\n",
       "    <tr>\n",
       "      <th>Townhouse</th>\n",
       "      <td>83.0</td>\n",
       "      <td>280.783133</td>\n",
       "      <td>314.605252</td>\n",
       "      <td>66.0</td>\n",
       "      <td>135.00</td>\n",
       "      <td>190.0</td>\n",
       "      <td>300.00</td>\n",
       "      <td>2500.0</td>\n",
       "    </tr>\n",
       "    <tr>\n",
       "      <th>Villa</th>\n",
       "      <td>4.0</td>\n",
       "      <td>529.750000</td>\n",
       "      <td>650.963581</td>\n",
       "      <td>120.0</td>\n",
       "      <td>180.00</td>\n",
       "      <td>249.5</td>\n",
       "      <td>599.25</td>\n",
       "      <td>1500.0</td>\n",
       "    </tr>\n",
       "    <tr>\n",
       "      <th rowspan=\"17\" valign=\"top\">Private room</th>\n",
       "      <th>Apartment</th>\n",
       "      <td>10748.0</td>\n",
       "      <td>92.713900</td>\n",
       "      <td>65.237050</td>\n",
       "      <td>10.0</td>\n",
       "      <td>65.00</td>\n",
       "      <td>82.0</td>\n",
       "      <td>102.00</td>\n",
       "      <td>3000.0</td>\n",
       "    </tr>\n",
       "    <tr>\n",
       "      <th>Bed &amp; Breakfast</th>\n",
       "      <td>155.0</td>\n",
       "      <td>97.161290</td>\n",
       "      <td>47.031971</td>\n",
       "      <td>32.0</td>\n",
       "      <td>65.00</td>\n",
       "      <td>85.0</td>\n",
       "      <td>117.00</td>\n",
       "      <td>260.0</td>\n",
       "    </tr>\n",
       "    <tr>\n",
       "      <th>Boat</th>\n",
       "      <td>1.0</td>\n",
       "      <td>120.000000</td>\n",
       "      <td>NaN</td>\n",
       "      <td>120.0</td>\n",
       "      <td>120.00</td>\n",
       "      <td>120.0</td>\n",
       "      <td>120.00</td>\n",
       "      <td>120.0</td>\n",
       "    </tr>\n",
       "    <tr>\n",
       "      <th>Cabin</th>\n",
       "      <td>1.0</td>\n",
       "      <td>80.000000</td>\n",
       "      <td>NaN</td>\n",
       "      <td>80.0</td>\n",
       "      <td>80.00</td>\n",
       "      <td>80.0</td>\n",
       "      <td>80.00</td>\n",
       "      <td>80.0</td>\n",
       "    </tr>\n",
       "    <tr>\n",
       "      <th>Camper/RV</th>\n",
       "      <td>1.0</td>\n",
       "      <td>39.000000</td>\n",
       "      <td>NaN</td>\n",
       "      <td>39.0</td>\n",
       "      <td>39.00</td>\n",
       "      <td>39.0</td>\n",
       "      <td>39.00</td>\n",
       "      <td>39.0</td>\n",
       "    </tr>\n",
       "    <tr>\n",
       "      <th>Castle</th>\n",
       "      <td>1.0</td>\n",
       "      <td>150.000000</td>\n",
       "      <td>NaN</td>\n",
       "      <td>150.0</td>\n",
       "      <td>150.00</td>\n",
       "      <td>150.0</td>\n",
       "      <td>150.00</td>\n",
       "      <td>150.0</td>\n",
       "    </tr>\n",
       "    <tr>\n",
       "      <th>Chalet</th>\n",
       "      <td>1.0</td>\n",
       "      <td>99.000000</td>\n",
       "      <td>NaN</td>\n",
       "      <td>99.0</td>\n",
       "      <td>99.00</td>\n",
       "      <td>99.0</td>\n",
       "      <td>99.00</td>\n",
       "      <td>99.0</td>\n",
       "    </tr>\n",
       "    <tr>\n",
       "      <th>Condominium</th>\n",
       "      <td>22.0</td>\n",
       "      <td>98.590909</td>\n",
       "      <td>40.576394</td>\n",
       "      <td>46.0</td>\n",
       "      <td>62.00</td>\n",
       "      <td>90.0</td>\n",
       "      <td>129.75</td>\n",
       "      <td>200.0</td>\n",
       "    </tr>\n",
       "    <tr>\n",
       "      <th>Dorm</th>\n",
       "      <td>16.0</td>\n",
       "      <td>86.562500</td>\n",
       "      <td>40.738137</td>\n",
       "      <td>50.0</td>\n",
       "      <td>60.00</td>\n",
       "      <td>70.0</td>\n",
       "      <td>92.50</td>\n",
       "      <td>200.0</td>\n",
       "    </tr>\n",
       "    <tr>\n",
       "      <th>House</th>\n",
       "      <td>1258.0</td>\n",
       "      <td>77.750397</td>\n",
       "      <td>49.402650</td>\n",
       "      <td>25.0</td>\n",
       "      <td>55.00</td>\n",
       "      <td>69.0</td>\n",
       "      <td>88.75</td>\n",
       "      <td>997.0</td>\n",
       "    </tr>\n",
       "    <tr>\n",
       "      <th>Hut</th>\n",
       "      <td>2.0</td>\n",
       "      <td>75.000000</td>\n",
       "      <td>35.355339</td>\n",
       "      <td>50.0</td>\n",
       "      <td>62.50</td>\n",
       "      <td>75.0</td>\n",
       "      <td>87.50</td>\n",
       "      <td>100.0</td>\n",
       "    </tr>\n",
       "    <tr>\n",
       "      <th>Loft</th>\n",
       "      <td>312.0</td>\n",
       "      <td>108.057692</td>\n",
       "      <td>128.817912</td>\n",
       "      <td>39.0</td>\n",
       "      <td>65.00</td>\n",
       "      <td>85.0</td>\n",
       "      <td>115.00</td>\n",
       "      <td>1500.0</td>\n",
       "    </tr>\n",
       "    <tr>\n",
       "      <th>Other</th>\n",
       "      <td>29.0</td>\n",
       "      <td>211.931034</td>\n",
       "      <td>235.404505</td>\n",
       "      <td>39.0</td>\n",
       "      <td>80.00</td>\n",
       "      <td>119.0</td>\n",
       "      <td>275.00</td>\n",
       "      <td>1200.0</td>\n",
       "    </tr>\n",
       "    <tr>\n",
       "      <th>Tent</th>\n",
       "      <td>4.0</td>\n",
       "      <td>126.250000</td>\n",
       "      <td>94.989034</td>\n",
       "      <td>40.0</td>\n",
       "      <td>58.75</td>\n",
       "      <td>107.5</td>\n",
       "      <td>175.00</td>\n",
       "      <td>250.0</td>\n",
       "    </tr>\n",
       "    <tr>\n",
       "      <th>Townhouse</th>\n",
       "      <td>52.0</td>\n",
       "      <td>83.365385</td>\n",
       "      <td>30.578109</td>\n",
       "      <td>45.0</td>\n",
       "      <td>55.00</td>\n",
       "      <td>80.0</td>\n",
       "      <td>99.00</td>\n",
       "      <td>150.0</td>\n",
       "    </tr>\n",
       "    <tr>\n",
       "      <th>Treehouse</th>\n",
       "      <td>1.0</td>\n",
       "      <td>95.000000</td>\n",
       "      <td>NaN</td>\n",
       "      <td>95.0</td>\n",
       "      <td>95.00</td>\n",
       "      <td>95.0</td>\n",
       "      <td>95.00</td>\n",
       "      <td>95.0</td>\n",
       "    </tr>\n",
       "    <tr>\n",
       "      <th>Villa</th>\n",
       "      <td>4.0</td>\n",
       "      <td>126.250000</td>\n",
       "      <td>71.107313</td>\n",
       "      <td>60.0</td>\n",
       "      <td>67.50</td>\n",
       "      <td>125.0</td>\n",
       "      <td>183.75</td>\n",
       "      <td>195.0</td>\n",
       "    </tr>\n",
       "    <tr>\n",
       "      <th rowspan=\"8\" valign=\"top\">Shared room</th>\n",
       "      <th>Apartment</th>\n",
       "      <td>685.0</td>\n",
       "      <td>79.200000</td>\n",
       "      <td>67.720849</td>\n",
       "      <td>20.0</td>\n",
       "      <td>49.00</td>\n",
       "      <td>66.0</td>\n",
       "      <td>90.00</td>\n",
       "      <td>1000.0</td>\n",
       "    </tr>\n",
       "    <tr>\n",
       "      <th>Bed &amp; Breakfast</th>\n",
       "      <td>12.0</td>\n",
       "      <td>143.666667</td>\n",
       "      <td>245.328104</td>\n",
       "      <td>30.0</td>\n",
       "      <td>42.50</td>\n",
       "      <td>65.0</td>\n",
       "      <td>81.00</td>\n",
       "      <td>900.0</td>\n",
       "    </tr>\n",
       "    <tr>\n",
       "      <th>Dorm</th>\n",
       "      <td>11.0</td>\n",
       "      <td>73.181818</td>\n",
       "      <td>46.328864</td>\n",
       "      <td>30.0</td>\n",
       "      <td>50.00</td>\n",
       "      <td>55.0</td>\n",
       "      <td>80.00</td>\n",
       "      <td>200.0</td>\n",
       "    </tr>\n",
       "    <tr>\n",
       "      <th>House</th>\n",
       "      <td>80.0</td>\n",
       "      <td>77.487500</td>\n",
       "      <td>275.409936</td>\n",
       "      <td>10.0</td>\n",
       "      <td>35.00</td>\n",
       "      <td>45.0</td>\n",
       "      <td>45.00</td>\n",
       "      <td>2500.0</td>\n",
       "    </tr>\n",
       "    <tr>\n",
       "      <th>Loft</th>\n",
       "      <td>49.0</td>\n",
       "      <td>78.816327</td>\n",
       "      <td>87.521824</td>\n",
       "      <td>30.0</td>\n",
       "      <td>43.00</td>\n",
       "      <td>50.0</td>\n",
       "      <td>78.00</td>\n",
       "      <td>525.0</td>\n",
       "    </tr>\n",
       "    <tr>\n",
       "      <th>Other</th>\n",
       "      <td>4.0</td>\n",
       "      <td>148.750000</td>\n",
       "      <td>134.806961</td>\n",
       "      <td>70.0</td>\n",
       "      <td>73.75</td>\n",
       "      <td>87.5</td>\n",
       "      <td>162.50</td>\n",
       "      <td>350.0</td>\n",
       "    </tr>\n",
       "    <tr>\n",
       "      <th>Townhouse</th>\n",
       "      <td>1.0</td>\n",
       "      <td>95.000000</td>\n",
       "      <td>NaN</td>\n",
       "      <td>95.0</td>\n",
       "      <td>95.00</td>\n",
       "      <td>95.0</td>\n",
       "      <td>95.00</td>\n",
       "      <td>95.0</td>\n",
       "    </tr>\n",
       "    <tr>\n",
       "      <th>Treehouse</th>\n",
       "      <td>3.0</td>\n",
       "      <td>167.666667</td>\n",
       "      <td>114.788211</td>\n",
       "      <td>95.0</td>\n",
       "      <td>101.50</td>\n",
       "      <td>108.0</td>\n",
       "      <td>204.00</td>\n",
       "      <td>300.0</td>\n",
       "    </tr>\n",
       "  </tbody>\n",
       "</table>\n",
       "</div>"
      ],
      "text/plain": [
       "                                   Price                                  \\\n",
       "                                   count        mean          std    min   \n",
       "Room Type       Property Type                                              \n",
       "Entire home/apt Apartment        15669.0  213.224839   218.097834   10.0   \n",
       "                Bed & Breakfast     13.0  184.538462   119.814172   85.0   \n",
       "                Boat                 7.0  158.428571    51.110524  100.0   \n",
       "                Bungalow             4.0  150.750000    46.464144   87.0   \n",
       "                Cabin                1.0  250.000000          NaN  250.0   \n",
       "                Camper/RV            6.0  114.333333   107.685963   45.0   \n",
       "                Condominium         72.0  304.861111   266.197497   80.0   \n",
       "                Dorm                 4.0   44.250000    24.060687   30.0   \n",
       "                House              752.0  297.263298   468.409428   27.0   \n",
       "                Lighthouse           1.0   39.000000          NaN   39.0   \n",
       "                Loft               392.0  330.510204   321.519721   55.0   \n",
       "                Other               14.0  843.428571  1133.062271   66.0   \n",
       "                Townhouse           83.0  280.783133   314.605252   66.0   \n",
       "                Villa                4.0  529.750000   650.963581  120.0   \n",
       "Private room    Apartment        10748.0   92.713900    65.237050   10.0   \n",
       "                Bed & Breakfast    155.0   97.161290    47.031971   32.0   \n",
       "                Boat                 1.0  120.000000          NaN  120.0   \n",
       "                Cabin                1.0   80.000000          NaN   80.0   \n",
       "                Camper/RV            1.0   39.000000          NaN   39.0   \n",
       "                Castle               1.0  150.000000          NaN  150.0   \n",
       "                Chalet               1.0   99.000000          NaN   99.0   \n",
       "                Condominium         22.0   98.590909    40.576394   46.0   \n",
       "                Dorm                16.0   86.562500    40.738137   50.0   \n",
       "                House             1258.0   77.750397    49.402650   25.0   \n",
       "                Hut                  2.0   75.000000    35.355339   50.0   \n",
       "                Loft               312.0  108.057692   128.817912   39.0   \n",
       "                Other               29.0  211.931034   235.404505   39.0   \n",
       "                Tent                 4.0  126.250000    94.989034   40.0   \n",
       "                Townhouse           52.0   83.365385    30.578109   45.0   \n",
       "                Treehouse            1.0   95.000000          NaN   95.0   \n",
       "                Villa                4.0  126.250000    71.107313   60.0   \n",
       "Shared room     Apartment          685.0   79.200000    67.720849   20.0   \n",
       "                Bed & Breakfast     12.0  143.666667   245.328104   30.0   \n",
       "                Dorm                11.0   73.181818    46.328864   30.0   \n",
       "                House               80.0   77.487500   275.409936   10.0   \n",
       "                Loft                49.0   78.816327    87.521824   30.0   \n",
       "                Other                4.0  148.750000   134.806961   70.0   \n",
       "                Townhouse            1.0   95.000000          NaN   95.0   \n",
       "                Treehouse            3.0  167.666667   114.788211   95.0   \n",
       "\n",
       "                                                                  \n",
       "                                    25%    50%      75%      max  \n",
       "Room Type       Property Type                                     \n",
       "Entire home/apt Apartment        135.00  175.0   235.00  10000.0  \n",
       "                Bed & Breakfast  121.00  130.0   220.00    525.0  \n",
       "                Boat             122.50  150.0   182.00    250.0  \n",
       "                Bungalow         133.50  160.5   177.75    195.0  \n",
       "                Cabin            250.00  250.0   250.00    250.0  \n",
       "                Camper/RV         49.00   74.0   114.00    325.0  \n",
       "                Condominium      155.00  200.0   375.00   1990.0  \n",
       "                Dorm              30.00   33.5    47.75     80.0  \n",
       "                House            126.50  195.0   300.00   8000.0  \n",
       "                Lighthouse        39.00   39.0    39.00     39.0  \n",
       "                Loft             160.00  225.0   379.00   3000.0  \n",
       "                Other            140.00  300.0  1112.50   4000.0  \n",
       "                Townhouse        135.00  190.0   300.00   2500.0  \n",
       "                Villa            180.00  249.5   599.25   1500.0  \n",
       "Private room    Apartment         65.00   82.0   102.00   3000.0  \n",
       "                Bed & Breakfast   65.00   85.0   117.00    260.0  \n",
       "                Boat             120.00  120.0   120.00    120.0  \n",
       "                Cabin             80.00   80.0    80.00     80.0  \n",
       "                Camper/RV         39.00   39.0    39.00     39.0  \n",
       "                Castle           150.00  150.0   150.00    150.0  \n",
       "                Chalet            99.00   99.0    99.00     99.0  \n",
       "                Condominium       62.00   90.0   129.75    200.0  \n",
       "                Dorm              60.00   70.0    92.50    200.0  \n",
       "                House             55.00   69.0    88.75    997.0  \n",
       "                Hut               62.50   75.0    87.50    100.0  \n",
       "                Loft              65.00   85.0   115.00   1500.0  \n",
       "                Other             80.00  119.0   275.00   1200.0  \n",
       "                Tent              58.75  107.5   175.00    250.0  \n",
       "                Townhouse         55.00   80.0    99.00    150.0  \n",
       "                Treehouse         95.00   95.0    95.00     95.0  \n",
       "                Villa             67.50  125.0   183.75    195.0  \n",
       "Shared room     Apartment         49.00   66.0    90.00   1000.0  \n",
       "                Bed & Breakfast   42.50   65.0    81.00    900.0  \n",
       "                Dorm              50.00   55.0    80.00    200.0  \n",
       "                House             35.00   45.0    45.00   2500.0  \n",
       "                Loft              43.00   50.0    78.00    525.0  \n",
       "                Other             73.75   87.5   162.50    350.0  \n",
       "                Townhouse         95.00   95.0    95.00     95.0  \n",
       "                Treehouse        101.50  108.0   204.00    300.0  "
      ]
     },
     "execution_count": 23,
     "metadata": {},
     "output_type": "execute_result"
    }
   ],
   "source": [
    "modified_airbnb_df.loc[:, ['Room Type', 'Property Type', 'Price']].groupby(['Room Type', 'Property Type']).describe()"
   ]
  },
  {
   "cell_type": "markdown",
   "metadata": {},
   "source": [
    "For the room types, it definitely seems like the entire home/apt listings have the highest prices on average in general. This observation is supported by the scatterplot as well so I think it is correct. As for the property type, other listings immediately stick out as being high priced on average between all three of the room types. This makes sense as Other properties are probably special properties. For entire home/apt listings specifically, the most expensive include villas, townhouses, and condos. Unsurprisingly, the Other property type is once again also the highest standard deviation. For entire home/apt listings specifically, houses, lofts, and villas also tend to have the highest standard deviation for price variability.\n",
    "\n",
    "In this case, I want to say that it depends on the category. I think though that for the most part there are not too many outliers for each property type (unless the property type, by nature has varied prices due to unique factors), and so mean would probably be the better estimate of central tendency here. That being said though, the median definitely is a better measure of central tendency for data with heavy outliers (maybe like the Other property type?) so I think again it really depends on the category (particularly property type) we're interested in exploring."
   ]
  },
  {
   "cell_type": "markdown",
   "metadata": {},
   "source": [
    "## Q3 Stuff"
   ]
  },
  {
   "cell_type": "markdown",
   "metadata": {},
   "source": [
    "**Q3.** This question looks at a time series of the number of active oil drilling rigs in the United States over time. The data comes from the Energy Information Agency.\n",
    "\n",
    "1. Load `./data/drilling_rigs.csv` and examine the data. How many observations? How many variables? Are numeric variables correctly read in by Pandas, or will some variables have to be typecast/coerced? Explain clearly how these data need to be cleaned.\n",
    "2. To convert the `Month` variable to an ordered datetime variable, use `df['time'] = pd.to_datetime(df['Month'], format='mixed')`.\n",
    "3. Let's look at `Active Well Service Rig Count (Number of Rigs)`, which is the total number of rigs over time. Make a line plot of this time series. Describe what you see.\n",
    "4. Instead of levels, we want to look at change over time. Compute the first difference of  `Active Well Service Rig Count (Number of Rigs)` and plot it over time. Describe what you see.\n",
    "5. The first two columns are the number of onshore and offshore rigs, respectively. Melt these columns and plot the resulting series."
   ]
  },
  {
   "cell_type": "markdown",
   "metadata": {},
   "source": [
    "### Q3.1"
   ]
  },
  {
   "cell_type": "code",
   "execution_count": null,
   "metadata": {},
   "outputs": [],
   "source": [
    "drillrig_df = pd.read_csv('./data/drilling_rigs.csv')"
   ]
  },
  {
   "cell_type": "code",
   "execution_count": null,
   "metadata": {},
   "outputs": [
    {
     "name": "stdout",
     "output_type": "stream",
     "text": [
      "<class 'pandas.core.frame.DataFrame'>\n",
      "RangeIndex: 623 entries, 0 to 622\n",
      "Data columns (total 10 columns):\n",
      " #   Column                                                                                       Non-Null Count  Dtype \n",
      "---  ------                                                                                       --------------  ----- \n",
      " 0   Month                                                                                        623 non-null    object\n",
      " 1   Crude Oil and Natural Gas Rotary Rigs in Operation, Onshore (Number of Rigs)                 623 non-null    int64 \n",
      " 2   Crude Oil and Natural Gas Rotary Rigs in Operation, Offshore (Number of Rigs)                623 non-null    int64 \n",
      " 3   Crude Oil Rotary Rigs in Operation, Total (Number of Rigs)                                   623 non-null    object\n",
      " 4   Natural Gas Rotary Rigs in Operation, Total (Number of Rigs)                                 623 non-null    object\n",
      " 5   Crude Oil and Natural Gas Rotary Rigs in Operation, Horizontal Trajectory (Number of Rigs)   623 non-null    object\n",
      " 6   Crude Oil and Natural Gas Rotary Rigs in Operation, Directional Trajectory (Number of Rigs)  623 non-null    object\n",
      " 7   Crude Oil and Natural Gas Rotary Rigs in Operation, Vertical Trajectory (Number of Rigs)     623 non-null    object\n",
      " 8   Crude Oil and Natural Gas Rotary Rigs in Operation, Total (Number of Rigs)                   623 non-null    int64 \n",
      " 9   Active Well Service Rig Count (Number of Rigs)                                               623 non-null    object\n",
      "dtypes: int64(3), object(7)\n",
      "memory usage: 48.8+ KB\n"
     ]
    }
   ],
   "source": [
    "drillrig_df.info()"
   ]
  },
  {
   "cell_type": "markdown",
   "metadata": {},
   "source": [
    "So to answer the questions:\n",
    "- How many observations? \n",
    "  - 623.\n",
    "- How many variables? \n",
    "  - 10.\n",
    "- Are numeric variables correctly read in by Pandas, or will some variables have to be typecast/coerced? \n",
    "  - Well, given the column names, there are a couple of numeric variables (the ones with \"Number of Rigs\") that were read in as objects. Thus, most likely they'll need to be typecasted and coerced.\n",
    "- Explain clearly how these data need to be cleaned.\n",
    "  - To answer this, let's see why they were read in as objects instead of ints. We'll start with the `Month` and see if that's just a number or if that's literally like, \"January\" \"February\" etc. or like a datetime (in which case, object is fine)."
   ]
  },
  {
   "cell_type": "code",
   "execution_count": null,
   "metadata": {},
   "outputs": [
    {
     "data": {
      "text/plain": [
       "array(['1973 January', '1973 February', '1973 March', '1973 April',\n",
       "       '1973 May', '1973 June', '1973 July', '1973 August',\n",
       "       '1973 September', '1973 October', '1973 November', '1973 December',\n",
       "       '1974 January', '1974 February', '1974 March', '1974 April',\n",
       "       '1974 May', '1974 June', '1974 July', '1974 August',\n",
       "       '1974 September', '1974 October', '1974 November', '1974 December',\n",
       "       '1975 January', '1975 February', '1975 March', '1975 April',\n",
       "       '1975 May', '1975 June', '1975 July', '1975 August',\n",
       "       '1975 September', '1975 October', '1975 November', '1975 December',\n",
       "       '1976 January', '1976 February', '1976 March', '1976 April',\n",
       "       '1976 May', '1976 June', '1976 July', '1976 August',\n",
       "       '1976 September', '1976 October', '1976 November', '1976 December',\n",
       "       '1977 January', '1977 February', '1977 March', '1977 April',\n",
       "       '1977 May', '1977 June', '1977 July', '1977 August',\n",
       "       '1977 September', '1977 October', '1977 November', '1977 December',\n",
       "       '1978 January', '1978 February', '1978 March', '1978 April',\n",
       "       '1978 May', '1978 June', '1978 July', '1978 August',\n",
       "       '1978 September', '1978 October', '1978 November', '1978 December',\n",
       "       '1979 January', '1979 February', '1979 March', '1979 April',\n",
       "       '1979 May', '1979 June', '1979 July', '1979 August',\n",
       "       '1979 September', '1979 October', '1979 November', '1979 December',\n",
       "       '1980 January', '1980 February', '1980 March', '1980 April',\n",
       "       '1980 May', '1980 June', '1980 July', '1980 August',\n",
       "       '1980 September', '1980 October', '1980 November', '1980 December',\n",
       "       '1981 January', '1981 February', '1981 March', '1981 April',\n",
       "       '1981 May', '1981 June', '1981 July', '1981 August',\n",
       "       '1981 September', '1981 October', '1981 November', '1981 December',\n",
       "       '1982 January', '1982 February', '1982 March', '1982 April',\n",
       "       '1982 May', '1982 June', '1982 July', '1982 August',\n",
       "       '1982 September', '1982 October', '1982 November', '1982 December',\n",
       "       '1983 January', '1983 February', '1983 March', '1983 April',\n",
       "       '1983 May', '1983 June', '1983 July', '1983 August',\n",
       "       '1983 September', '1983 October', '1983 November', '1983 December',\n",
       "       '1984 January', '1984 February', '1984 March', '1984 April',\n",
       "       '1984 May', '1984 June', '1984 July', '1984 August',\n",
       "       '1984 September', '1984 October', '1984 November', '1984 December',\n",
       "       '1985 January', '1985 February', '1985 March', '1985 April',\n",
       "       '1985 May', '1985 June', '1985 July', '1985 August',\n",
       "       '1985 September', '1985 October', '1985 November', '1985 December',\n",
       "       '1986 January', '1986 February', '1986 March', '1986 April',\n",
       "       '1986 May', '1986 June', '1986 July', '1986 August',\n",
       "       '1986 September', '1986 October', '1986 November', '1986 December',\n",
       "       '1987 January', '1987 February', '1987 March', '1987 April',\n",
       "       '1987 May', '1987 June', '1987 July', '1987 August',\n",
       "       '1987 September', '1987 October', '1987 November', '1987 December',\n",
       "       '1988 January', '1988 February', '1988 March', '1988 April',\n",
       "       '1988 May', '1988 June', '1988 July', '1988 August',\n",
       "       '1988 September', '1988 October', '1988 November', '1988 December',\n",
       "       '1989 January', '1989 February', '1989 March', '1989 April',\n",
       "       '1989 May', '1989 June', '1989 July', '1989 August',\n",
       "       '1989 September', '1989 October', '1989 November', '1989 December',\n",
       "       '1990 January', '1990 February', '1990 March', '1990 April',\n",
       "       '1990 May', '1990 June', '1990 July', '1990 August',\n",
       "       '1990 September', '1990 October', '1990 November', '1990 December',\n",
       "       '1991 January', '1991 February', '1991 March', '1991 April',\n",
       "       '1991 May', '1991 June', '1991 July', '1991 August',\n",
       "       '1991 September', '1991 October', '1991 November', '1991 December',\n",
       "       '1992 January', '1992 February', '1992 March', '1992 April',\n",
       "       '1992 May', '1992 June', '1992 July', '1992 August',\n",
       "       '1992 September', '1992 October', '1992 November', '1992 December',\n",
       "       '1993 January', '1993 February', '1993 March', '1993 April',\n",
       "       '1993 May', '1993 June', '1993 July', '1993 August',\n",
       "       '1993 September', '1993 October', '1993 November', '1993 December',\n",
       "       '1994 January', '1994 February', '1994 March', '1994 April',\n",
       "       '1994 May', '1994 June', '1994 July', '1994 August',\n",
       "       '1994 September', '1994 October', '1994 November', '1994 December',\n",
       "       '1995 January', '1995 February', '1995 March', '1995 April',\n",
       "       '1995 May', '1995 June', '1995 July', '1995 August',\n",
       "       '1995 September', '1995 October', '1995 November', '1995 December',\n",
       "       '1996 January', '1996 February', '1996 March', '1996 April',\n",
       "       '1996 May', '1996 June', '1996 July', '1996 August',\n",
       "       '1996 September', '1996 October', '1996 November', '1996 December',\n",
       "       '1997 January', '1997 February', '1997 March', '1997 April',\n",
       "       '1997 May', '1997 June', '1997 July', '1997 August',\n",
       "       '1997 September', '1997 October', '1997 November', '1997 December',\n",
       "       '1998 January', '1998 February', '1998 March', '1998 April',\n",
       "       '1998 May', '1998 June', '1998 July', '1998 August',\n",
       "       '1998 September', '1998 October', '1998 November', '1998 December',\n",
       "       '1999 January', '1999 February', '1999 March', '1999 April',\n",
       "       '1999 May', '1999 June', '1999 July', '1999 August',\n",
       "       '1999 September', '1999 October', '1999 November', '1999 December',\n",
       "       '2000 January', '2000 February', '2000 March', '2000 April',\n",
       "       '2000 May', '2000 June', '2000 July', '2000 August',\n",
       "       '2000 September', '2000 October', '2000 November', '2000 December',\n",
       "       '2001 January', '2001 February', '2001 March', '2001 April',\n",
       "       '2001 May', '2001 June', '2001 July', '2001 August',\n",
       "       '2001 September', '2001 October', '2001 November', '2001 December',\n",
       "       '2002 January', '2002 February', '2002 March', '2002 April',\n",
       "       '2002 May', '2002 June', '2002 July', '2002 August',\n",
       "       '2002 September', '2002 October', '2002 November', '2002 December',\n",
       "       '2003 January', '2003 February', '2003 March', '2003 April',\n",
       "       '2003 May', '2003 June', '2003 July', '2003 August',\n",
       "       '2003 September', '2003 October', '2003 November', '2003 December',\n",
       "       '2004 January', '2004 February', '2004 March', '2004 April',\n",
       "       '2004 May', '2004 June', '2004 July', '2004 August',\n",
       "       '2004 September', '2004 October', '2004 November', '2004 December',\n",
       "       '2005 January', '2005 February', '2005 March', '2005 April',\n",
       "       '2005 May', '2005 June', '2005 July', '2005 August',\n",
       "       '2005 September', '2005 October', '2005 November', '2005 December',\n",
       "       '2006 January', '2006 February', '2006 March', '2006 April',\n",
       "       '2006 May', '2006 June', '2006 July', '2006 August',\n",
       "       '2006 September', '2006 October', '2006 November', '2006 December',\n",
       "       '2007 January', '2007 February', '2007 March', '2007 April',\n",
       "       '2007 May', '2007 June', '2007 July', '2007 August',\n",
       "       '2007 September', '2007 October', '2007 November', '2007 December',\n",
       "       '2008 January', '2008 February', '2008 March', '2008 April',\n",
       "       '2008 May', '2008 June', '2008 July', '2008 August',\n",
       "       '2008 September', '2008 October', '2008 November', '2008 December',\n",
       "       '2009 January', '2009 February', '2009 March', '2009 April',\n",
       "       '2009 May', '2009 June', '2009 July', '2009 August',\n",
       "       '2009 September', '2009 October', '2009 November', '2009 December',\n",
       "       '2010 January', '2010 February', '2010 March', '2010 April',\n",
       "       '2010 May', '2010 June', '2010 July', '2010 August',\n",
       "       '2010 September', '2010 October', '2010 November', '2010 December',\n",
       "       '2011 January', '2011 February', '2011 March', '2011 April',\n",
       "       '2011 May', '2011 June', '2011 July', '2011 August',\n",
       "       '2011 September', '2011 October', '2011 November', '2011 December',\n",
       "       '2012 January', '2012 February', '2012 March', '2012 April',\n",
       "       '2012 May', '2012 June', '2012 July', '2012 August',\n",
       "       '2012 September', '2012 October', '2012 November', '2012 December',\n",
       "       '2013 January', '2013 February', '2013 March', '2013 April',\n",
       "       '2013 May', '2013 June', '2013 July', '2013 August',\n",
       "       '2013 September', '2013 October', '2013 November', '2013 December',\n",
       "       '2014 January', '2014 February', '2014 March', '2014 April',\n",
       "       '2014 May', '2014 June', '2014 July', '2014 August',\n",
       "       '2014 September', '2014 October', '2014 November', '2014 December',\n",
       "       '2015 January', '2015 February', '2015 March', '2015 April',\n",
       "       '2015 May', '2015 June', '2015 July', '2015 August',\n",
       "       '2015 September', '2015 October', '2015 November', '2015 December',\n",
       "       '2016 January', '2016 February', '2016 March', '2016 April',\n",
       "       '2016 May', '2016 June', '2016 July', '2016 August',\n",
       "       '2016 September', '2016 October', '2016 November', '2016 December',\n",
       "       '2017 January', '2017 February', '2017 March', '2017 April',\n",
       "       '2017 May', '2017 June', '2017 July', '2017 August',\n",
       "       '2017 September', '2017 October', '2017 November', '2017 December',\n",
       "       '2018 January', '2018 February', '2018 March', '2018 April',\n",
       "       '2018 May', '2018 June', '2018 July', '2018 August',\n",
       "       '2018 September', '2018 October', '2018 November', '2018 December',\n",
       "       '2019 January', '2019 February', '2019 March', '2019 April',\n",
       "       '2019 May', '2019 June', '2019 July', '2019 August',\n",
       "       '2019 September', '2019 October', '2019 November', '2019 December',\n",
       "       '2020 January', '2020 February', '2020 March', '2020 April',\n",
       "       '2020 May', '2020 June', '2020 July', '2020 August',\n",
       "       '2020 September', '2020 October', '2020 November', '2020 December',\n",
       "       '2021 January', '2021 February', '2021 March', '2021 April',\n",
       "       '2021 May', '2021 June', '2021 July', '2021 August',\n",
       "       '2021 September', '2021 October', '2021 November', '2021 December',\n",
       "       '2022 January', '2022 February', '2022 March', '2022 April',\n",
       "       '2022 May', '2022 June', '2022 July', '2022 August',\n",
       "       '2022 September', '2022 October', '2022 November', '2022 December',\n",
       "       '2023 January', '2023 February', '2023 March', '2023 April',\n",
       "       '2023 May', '2023 June', '2023 July', '2023 August',\n",
       "       '2023 September', '2023 October', '2023 November', '2023 December',\n",
       "       '2024 January', '2024 February', '2024 March', '2024 April',\n",
       "       '2024 May', '2024 June', '2024 July', '2024 August',\n",
       "       '2024 September', '2024 October', '2024 November'], dtype=object)"
      ]
     },
     "execution_count": 26,
     "metadata": {},
     "output_type": "execute_result"
    }
   ],
   "source": [
    "drillrig_df['Month'].unique()"
   ]
  },
  {
   "cell_type": "markdown",
   "metadata": {},
   "source": [
    "Yeah `Month` is fine. There's no fixing that. Let's see if maybe the object number of rigs columns are like, > 999 like before?"
   ]
  },
  {
   "cell_type": "code",
   "execution_count": null,
   "metadata": {},
   "outputs": [
    {
     "data": {
      "text/plain": [
       "array(['Not Available', '626', '713', '727', '746', '663', '575', '582',\n",
       "       '567', '562', '554', '568', '565', '512', '518', '490', '507',\n",
       "       '455', '392', '407', '427', '431', '423', '432', '437', '460',\n",
       "       '493', '532', '541', '514', '492', '478', '484', '498', '497',\n",
       "       '506', '566', '588', '615', '643', '633', '564', '520', '469',\n",
       "       '430', '483', '472', '451', '433', '457', '400', '378', '381',\n",
       "       '370', '358', '343', '349', '334', '345', '418', '397', '335',\n",
       "       '311', '315', '320', '323', '350', '368', '441', '453', '425',\n",
       "       '356', '337', '314', '331', '341', '325', '342', '361', '354',\n",
       "       '326', '322', '328', '301', '327', '333', '332', '330', '295',\n",
       "       '283', '286', '288', '298', '290', '297', '363', '377', '373',\n",
       "       '379', '396', '382', '409', '390', '380', '291', '272', '267',\n",
       "       '264', '226', '215', '214', '190', '155', '125', '117', '114',\n",
       "       '136', '124', '108', '111', '130', '137', '145', '161', '143',\n",
       "       '147', '173', '196', '199', '201', '208', '206', '212', '234',\n",
       "       '242', '239', '237', '248', '247', '235', '219', '220', '198',\n",
       "       '174', '141', '144', '134', '138', '133', '122', '140', '146',\n",
       "       '132', '153', '171', '185', '167', '152', '154', '158', '164',\n",
       "       '156', '170', '166', '183', '180', '178', '192', '186', '150',\n",
       "       '210', '217', '253', '209', '244', '259', '261', '285', '316',\n",
       "       '305', '281', '270', '266', '282', '306', '302', '321', '338',\n",
       "       '375', '383', '417', '422', '426', '391', '271', '225', '187',\n",
       "       '194', '245', '279', '293', '312', '362', '404', '446', '471',\n",
       "       '508', '591', '644', '668', '693', '723', '759', '793', '801',\n",
       "       '830', '896', '948', '979', '1014', '1055', '1063', '1077', '1125',\n",
       "       '1177', '1208', '1261', '1307', '1329', '1373', '1409', '1419',\n",
       "       '1423', '1407', '1385', '1358', '1318', '1332', '1339', '1374',\n",
       "       '1404', '1396', '1388', '1364', '1384', '1403', '1424', '1466',\n",
       "       '1515', '1530', '1545', '1560', '1578', '1592', '1593', '1573',\n",
       "       '1539', '1362', '1050', '857', '750', '662', '634', '649', '673',\n",
       "       '650', '597', '537', '510', '384', '348', '359', '416', '436',\n",
       "       '462', '542', '593', '685', '714', '747', '765', '764', '752',\n",
       "       '741', '738', '748', '788', '799', '817', '845', '861', '864',\n",
       "       '870', '884', '880', '866', '853', '824', '802', '790', '782',\n",
       "       '760', '726', '708', '678', '671', '181', '204', '260', '287',\n",
       "       '353', '367', '439', '458', '475', '525', '546', '583', '599',\n",
       "       '601', '598', '609', '621', '623', '616', '604', '590', '580',\n",
       "       '551', '534', '521', '501', '499', '500', '486', '479', '481'],\n",
       "      dtype=object)"
      ]
     },
     "execution_count": 27,
     "metadata": {},
     "output_type": "execute_result"
    }
   ],
   "source": [
    "drillrig_df['Crude Oil Rotary Rigs in Operation, Total (Number of Rigs)'].unique()"
   ]
  },
  {
   "cell_type": "markdown",
   "metadata": {},
   "source": [
    "OHHHH... IT'S 100% BECAUSE OF THE NOT AVAILABLE. We can fix that easy! Let me just check the others and also confirm this issue persists across the remaining columns."
   ]
  },
  {
   "cell_type": "code",
   "execution_count": null,
   "metadata": {},
   "outputs": [
    {
     "data": {
      "text/plain": [
       "array(['Not Available', '352', '364', '377', '386', '403', '391', '375',\n",
       "       '338', '316', '300', '309', '335', '390', '406', '397', '347',\n",
       "       '325', '322', '311', '357', '438', '484', '482', '498', '517',\n",
       "       '477', '412', '421', '447', '465', '495', '496', '466', '460',\n",
       "       '469', '413', '405', '389', '374', '354', '342', '332', '326',\n",
       "       '314', '330', '328', '308', '294', '277', '250', '251', '260',\n",
       "       '310', '331', '356', '399', '451', '509', '454', '334', '268',\n",
       "       '270', '327', '360', '411', '408', '426', '425', '398', '382',\n",
       "       '415', '433', '471', '467', '336', '414', '430', '427', '446',\n",
       "       '488', '505', '499', '489', '478', '492', '518', '526', '541',\n",
       "       '577', '584', '581', '614', '602', '625', '648', '609', '589',\n",
       "       '601', '591', '580', '585', '549', '565', '559', '519', '491',\n",
       "       '461', '371', '380', '434', '527', '635', '636', '632', '616',\n",
       "       '600', '645', '677', '733', '779', '810', '842', '832', '854',\n",
       "       '879', '898', '913', '957', '997', '1050', '1058', '1032', '972',\n",
       "       '825', '754', '725', '679', '617', '612', '690', '704', '716',\n",
       "       '721', '736', '709', '683', '714', '718', '750', '767', '795',\n",
       "       '864', '910', '924', '932', '936', '941', '952', '959', '955',\n",
       "       '961', '968', '996', '1007', '1011', '1041', '1063', '1073',\n",
       "       '1068', '1077', '1064', '1075', '1083', '1118', '1163', '1170',\n",
       "       '1208', '1226', '1227', '1236', '1257', '1228', '1220', '1321',\n",
       "       '1305', '1337', '1373', '1376', '1379', '1417', '1429', '1441',\n",
       "       '1414', '1431', '1440', '1466', '1461', '1464', '1483', '1486',\n",
       "       '1492', '1475', '1435', '1451', '1468', '1421', '1426', '1444',\n",
       "       '1478', '1510', '1543', '1581', '1585', '1542', '1498', '1380',\n",
       "       '1215', '1037', '867', '780', '723', '691', '675', '722', '734',\n",
       "       '758', '822', '892', '933', '960', '953', '971', '983', '977',\n",
       "       '966', '950', '940', '909', '907', '884', '885', '878', '877',\n",
       "       '880', '894', '821', '790', '667', '629', '558', '522', '487',\n",
       "       '423', '353', '366', '373', '362', '341', '333', '324', '351',\n",
       "       '320', '296', '222', '223', '224', '216', '209', '198', '193',\n",
       "       '194', '174', '133', '102', '93', '88', '86', '82', '91', '105',\n",
       "       '117', '126', '140', '150', '154', '166', '178', '184', '189',\n",
       "       '183', '187', '180', '173', '182', '188', '192', '199', '195',\n",
       "       '179', '172', '152', '139', '130', '128', '118', '110', '106',\n",
       "       '79', '76', '72', '70', '73', '74', '80', '92', '94', '100', '97',\n",
       "       '101', '99', '111', '121', '135', '142', '149', '153', '160',\n",
       "       '162', '157', '156', '155', '158', '159', '144', '131', '132',\n",
       "       '116', '119', '120', '115', '108', '98'], dtype=object)"
      ]
     },
     "execution_count": 28,
     "metadata": {},
     "output_type": "execute_result"
    }
   ],
   "source": [
    "drillrig_df['Natural Gas Rotary Rigs in Operation, Total (Number of Rigs)'].unique()"
   ]
  },
  {
   "cell_type": "code",
   "execution_count": null,
   "metadata": {},
   "outputs": [
    {
     "data": {
      "text/plain": [
       "array(['Not Available', '102', '100', '88', '72', '61', '75', '70', '64',\n",
       "       '69', '71', '65', '59', '54', '51', '57', '60', '58', '56', '50',\n",
       "       '48', '46', '44', '55', '52', '45', '38', '49', '47', '53', '62',\n",
       "       '67', '63', '68', '73', '76', '41', '36', '30', '35', '43', '40',\n",
       "       '32', '33', '42', '74', '82', '83', '86', '77', '66', '87', '94',\n",
       "       '91', '93', '98', '97', '105', '119', '130', '133', '147', '127',\n",
       "       '126', '128', '134', '144', '156', '165', '171', '177', '183',\n",
       "       '192', '198', '208', '209', '220', '235', '250', '257', '274',\n",
       "       '286', '304', '309', '320', '308', '328', '335', '346', '342',\n",
       "       '355', '374', '377', '398', '430', '433', '427', '440', '454',\n",
       "       '447', '459', '485', '494', '527', '551', '568', '602', '631',\n",
       "       '635', '610', '553', '486', '432', '401', '379', '384', '425',\n",
       "       '468', '522', '562', '617', '665', '708', '751', '779', '819',\n",
       "       '856', '891', '910', '919', '941', '958', '968', '982', '983',\n",
       "       '1014', '1043', '1065', '1083', '1125', '1136', '1150', '1153',\n",
       "       '1166', '1172', '1168', '1174', '1151', '1182', '1164', '1155',\n",
       "       '1140', '1116', '1108', '1106', '1121', '1120', '1092', '1093',\n",
       "       '1080', '1063', '1074', '1082', '1101', '1117', '1142', '1181',\n",
       "       '1208', '1229', '1246', '1253', '1281', '1319', '1341', '1351',\n",
       "       '1369', '1360', '1257', '1010', '846', '758', '687', '663', '657',\n",
       "       '674', '644', '593', '581', '557', '504', '426', '373', '336',\n",
       "       '315', '323', '375', '399', '435', '465', '512', '552', '658',\n",
       "       '712', '750', '783', '805', '801', '793', '780', '776', '797',\n",
       "       '803', '830', '860', '889', '930', '926', '920', '925', '933',\n",
       "       '936', '939', '903', '887', '867', '848', '831', '806', '767',\n",
       "       '743', '706', '699', '693', '241', '218', '215', '240', '270',\n",
       "       '305', '334', '357', '369', '396', '411', '420', '455', '481',\n",
       "       '503', '523', '543', '578', '605', '632', '673', '695', '694',\n",
       "       '704', '711', '701', '698', '691', '685', '576', '561', '556',\n",
       "       '560', '559', '555', '544', '525', '519', '521', '517', '520'],\n",
       "      dtype=object)"
      ]
     },
     "execution_count": 29,
     "metadata": {},
     "output_type": "execute_result"
    }
   ],
   "source": [
    "drillrig_df['Crude Oil and Natural Gas Rotary Rigs in Operation, Horizontal Trajectory (Number of Rigs)'].unique()"
   ]
  },
  {
   "cell_type": "code",
   "execution_count": null,
   "metadata": {},
   "outputs": [
    {
     "data": {
      "text/plain": [
       "array(['Not Available', '96', '124', '122', '126', '115', '106', '97',\n",
       "       '90', '91', '89', '92', '100', '99', '88', '80', '76', '66', '74',\n",
       "       '81', '87', '102', '109', '118', '120', '129', '131', '135', '134',\n",
       "       '136', '133', '144', '142', '137', '139', '143', '145', '150',\n",
       "       '153', '152', '159', '156', '155', '154', '174', '157', '149',\n",
       "       '163', '178', '180', '194', '189', '172', '162', '193', '197',\n",
       "       '195', '206', '218', '235', '228', '219', '225', '229', '236',\n",
       "       '251', '248', '224', '222', '199', '184', '167', '147', '169',\n",
       "       '177', '191', '198', '209', '215', '237', '242', '234', '256',\n",
       "       '262', '263', '274', '288', '309', '311', '304', '299', '291',\n",
       "       '277', '254', '232', '223', '213', '245', '230', '216', '220',\n",
       "       '238', '240', '271', '270', '273', '285', '282', '275', '290',\n",
       "       '296', '289', '284', '314', '331', '322', '335', '342', '319',\n",
       "       '343', '345', '315', '329', '355', '349', '344', '351', '356',\n",
       "       '362', '368', '361', '383', '400', '394', '392', '393', '404',\n",
       "       '398', '378', '380', '376', '369', '395', '399', '377', '397',\n",
       "       '337', '367', '357', '366', '348', '365', '379', '384', '307',\n",
       "       '221', '190', '164', '170', '173', '182', '212', '231', '214',\n",
       "       '217', '227', '246', '239', '204', '185', '202', '211', '241',\n",
       "       '247', '200', '207', '208', '128', '104', '84', '85', '72', '62',\n",
       "       '61', '49', '48', '42', '44', '45', '52', '53', '59', '68', '65',\n",
       "       '69', '75', '78', '71', '67', '70', '63', '54', '46', '32', '24',\n",
       "       '21', '22', '20', '18', '15', '27', '26', '31', '28', '16', '34',\n",
       "       '35', '37', '39', '41', '47', '51', '55', '50'], dtype=object)"
      ]
     },
     "execution_count": 30,
     "metadata": {},
     "output_type": "execute_result"
    }
   ],
   "source": [
    "drillrig_df['Crude Oil and Natural Gas Rotary Rigs in Operation, Directional Trajectory (Number of Rigs)'].unique()"
   ]
  },
  {
   "cell_type": "code",
   "execution_count": null,
   "metadata": {},
   "outputs": [
    {
     "data": {
      "text/plain": [
       "array(['Not Available', '870', '761', '715', '659', '633', '677', '668',\n",
       "       '632', '609', '634', '652', '643', '559', '519', '497', '486',\n",
       "       '490', '483', '540', '554', '602', '680', '755', '788', '689',\n",
       "       '553', '494', '484', '502', '549', '592', '637', '684', '696',\n",
       "       '673', '613', '573', '551', '537', '539', '574', '591', '583',\n",
       "       '612', '629', '620', '558', '526', '481', '489', '478', '529',\n",
       "       '543', '560', '568', '505', '513', '528', '563', '587', '588',\n",
       "       '571', '599', '586', '619', '630', '658', '698', '682', '691',\n",
       "       '708', '704', '700', '719', '695', '627', '594', '582', '572',\n",
       "       '545', '515', '479', '448', '394', '358', '337', '316', '330',\n",
       "       '366', '393', '453', '496', '522', '589', '611', '645', '688',\n",
       "       '734', '759', '751', '781', '795', '805', '816', '843', '877',\n",
       "       '892', '817', '757', '670', '536', '485', '480', '544', '546',\n",
       "       '561', '566', '562', '579', '614', '639', '675', '694', '710',\n",
       "       '714', '705', '720', '742', '741', '744', '733', '732', '743',\n",
       "       '758', '749', '766', '783', '779', '793', '800', '789', '804',\n",
       "       '838', '833', '849', '872', '889', '905', '927', '926', '895',\n",
       "       '876', '916', '940', '957', '962', '985', '1003', '1041', '1026',\n",
       "       '1016', '1020', '1011', '1004', '1022', '996', '997', '991', '981',\n",
       "       '1014', '989', '946', '965', '970', '973', '980', '1007', '961',\n",
       "       '922', '827', '693', '452', '404', '375', '342', '357', '381',\n",
       "       '386', '395', '396', '415', '438', '454', '500', '495', '523',\n",
       "       '532', '535', '518', '512', '509', '564', '597', '603', '623',\n",
       "       '622', '617', '608', '581', '567', '570', '533', '507', '457',\n",
       "       '432', '434', '462', '463', '440', '430', '444', '431', '417',\n",
       "       '384', '388', '385', '372', '373', '355', '329', '270', '210',\n",
       "       '159', '127', '114', '102', '122', '128', '120', '112', '107',\n",
       "       '91', '77', '57', '56', '52', '50', '49', '61', '62', '69', '71',\n",
       "       '65', '79', '73', '68', '64', '67', '54', '59', '58', '66', '72',\n",
       "       '70', '55', '48', '51', '53', '39', '33', '30', '22', '9', '12',\n",
       "       '16', '13', '17', '19', '23', '24', '20', '18', '27', '29', '26',\n",
       "       '25', '14', '15'], dtype=object)"
      ]
     },
     "execution_count": 31,
     "metadata": {},
     "output_type": "execute_result"
    }
   ],
   "source": [
    "drillrig_df['Crude Oil and Natural Gas Rotary Rigs in Operation, Vertical Trajectory (Number of Rigs)'].unique()"
   ]
  },
  {
   "cell_type": "code",
   "execution_count": null,
   "metadata": {},
   "outputs": [
    {
     "data": {
      "text/plain": [
       "array(['1549', '1677', '1805', '1898', '1991', '1994', '1997', '2112',\n",
       "       '2227', '2247', '2266', '2334', '2401', '2436', '2470', '2513',\n",
       "       '2555', '2525', '2494', '2483', '2473', '2488', '2503', '2543',\n",
       "       '2582', '2549', '2568', '2374', '2426', '2344', '2369', '2459',\n",
       "       '2434', '2505', '2675', '2612', '2490', '2521', '2597', '2575',\n",
       "       '2607', '2606', '2656', '2652', '2639', '2601', '2660', '2474',\n",
       "       '2628', '2695', '2804', '2760', '2895', '2929', '2942', '2964',\n",
       "       '2973', '2968', '2898', '2810', '2906', '2899', '2997', '2996',\n",
       "       '2987', '3006', '3089', '3073', '3078', '2958', '3063', '3094',\n",
       "       '2698', '2765', '3034', '3369', '3506', '3572', '3621', '3673',\n",
       "       '3954', '3795', '3709', '3855', '3923', '4010', '3871', '4032',\n",
       "       '4112', '4092', '4155', '4277', '4290', '4281', '4172', '4209',\n",
       "       '4359', '4238', '4430', '4749', '5093', '5172', '5196', '5150',\n",
       "       '5142', '5165', '5279', '5367', '5220', '4808', '4334', '4328',\n",
       "       '4041', '3845', '3761', '3726', '3762', '3933', '3865', '3786',\n",
       "       '3629', '3537', '3413', '3340', '3323', '3431', '3868', '3927',\n",
       "       '4025', '4262', '4255', '4240', '4337', '3989', '3859', '4224',\n",
       "       '4864', '5100', '5061', '5157', '5053', '5075', '4953', '4919',\n",
       "       '4856', '4626', '4538', '4655', '4673', '4616', '4845', '4807',\n",
       "       '4729', '4745', '4582', '4649', '4498', '3450', '2733', '2644',\n",
       "       '2598', '2477', '2468', '2744', '2759', '2669', '2558', '2762',\n",
       "       '2745', '2833', '3389', '3439', '3610', '3687', '3664', '3375',\n",
       "       '3485', '3416', '3230', '3541', '3425', '3542', '3344', '3137',\n",
       "       '3090', '3036', '3081', '3277', '3417', '3458', '3319', '3367',\n",
       "       '3379', '3495', '3645', '3690', '3565', '3486', '3611', '3411',\n",
       "       '3403', '3522', '3605', '3905', '3988', '3984', '3994', '3579',\n",
       "       '3512', '3444', '3394', '3363', '3257', '3208', '3138', '3110',\n",
       "       '3183', '2912', '2704', '2592', '2727', '2564', '2492', '2630',\n",
       "       '2825', '3076', '2977', '3218', '2829', '2703', '2848', '3087',\n",
       "       '3178', '3423', '3341', '3519', '3604', '3662', '3386', '2649',\n",
       "       '2798', '2785', '2992', '2941', '3010', '2991', '2855', '2877',\n",
       "       '2862', '2806', '3020', '3107', '3133', '3103', '3225', '3105',\n",
       "       '3157', '3239', '3290', '3509', '3253', '3331', '3345', '3473',\n",
       "       '3723', '3582', '3560', '3498', '3489', '3287', '3237', '3364',\n",
       "       '3189', '3398', '3483', '3575', '3766', '3705', '3667', '3546',\n",
       "       '3622', '3433', '3476', '3378', '3283', '3268', '3396', '3079',\n",
       "       '3147', '2788', '2602', '2539', '2244', '1932', '1904', '2054',\n",
       "       '2096', '2133', '2391', '2388', '2445', '2472', '2500', '2550',\n",
       "       '2705', '2734', '2702', '2619', '2694', '2717', '2722', '2719',\n",
       "       '2732', '2738', '2726', '2755', '2730', '2728', '2770', '1784',\n",
       "       '1865', '1832', '1824', '1774', '1654', '1683', '1843', '1791',\n",
       "       '1852', '1856', '1891', '1861', '1878', '1817', '1821', '1928',\n",
       "       '1950', '1954', '1927', '1957', '2016', '2026', '1966', '2064',\n",
       "       '1973', '1946', '2019', '2043', '2047', '2050', '2095', '2067',\n",
       "       '2068', '2106', '2078', '2111', '2024', '2063', '2091', '2144',\n",
       "       '2143', '2216', '2242', '2238', '2276', '2268', '2315', '2237',\n",
       "       '2285', '2339', '2342', '2340', '2398', '2382', '2404', '2380',\n",
       "       '2440', '2366', '2351', '2307', '2375', '2387', '2381', '2358',\n",
       "       '2408', '2418', '2395', '2420', '2476', '2455', '2457', '2498',\n",
       "       '2546', '2554', '2567', '2611', '2591', '2469', '2152', '1947',\n",
       "       '1825', '1718', '1646', '1648', '1629', '1653', '1579', '1613',\n",
       "       '1625', '1706', '1726', '1754', '1816', '1818', '1857', '1900',\n",
       "       '1918', '1965', '1971', '1968', '2004', '1990', '2044', '2052',\n",
       "       '2069', '2116', '2136', '2115', '2100', '2131', '2154', '2135',\n",
       "       '2157', '2153', '2139', '2140', '2130', '2077', '2102', '2036',\n",
       "       '2033', '2039', '2099', '2049', '2055', '2061', '2175', '2066',\n",
       "       '2037', '2028', '2040', '2010', '2007', '1925', '1826', '1659',\n",
       "       '1566', '1512', '1460', '1481', '1485', '1456', '1399', '1345',\n",
       "       '1303', '1283', '1170', '1058', '1023', '1000', '989', '1009',\n",
       "       '1053', '967', '1117', '1102', '1111', '1131', '1099', '1125',\n",
       "       '1159', '1176', '1219', '1235', '1215', '1192', '1212', '1207',\n",
       "       '1222', '1187', '1183', '1232', '1246', '1276', '1293', '1321',\n",
       "       '1326', '1338', '1347', '1334', '1319', '1294', '1295', '1299',\n",
       "       '1292', '1316', '1297', '1272', '1221', '1173', '1149', '1108',\n",
       "       '1086', '1046', '802', '456', '490', '549', '617', '674', '741',\n",
       "       '788', '800', '811', '835', '838', '923', '936', '950', '960',\n",
       "       '973', '993', '991', '1006', '995', '982', '1035', 'Not Available'],\n",
       "      dtype=object)"
      ]
     },
     "execution_count": 32,
     "metadata": {},
     "output_type": "execute_result"
    }
   ],
   "source": [
    "drillrig_df['Active Well Service Rig Count (Number of Rigs)'].unique()"
   ]
  },
  {
   "cell_type": "markdown",
   "metadata": {},
   "source": [
    "Yep, all of them have this 'Not Available' thing. Thank GOD. I love whoever recorded this data. So to clean it, this is super easy - we'll just coerce all errors in our conversion to numeric for each column, which SHOULD make the 'Not Available' entries NaNs instead!"
   ]
  },
  {
   "cell_type": "code",
   "execution_count": null,
   "metadata": {},
   "outputs": [],
   "source": [
    "modified_drillrig_df = drillrig_df.copy()\n",
    "modified_drillrig_df['Crude Oil Rotary Rigs in Operation, Total (Number of Rigs)'] = pd.to_numeric(modified_drillrig_df['Crude Oil Rotary Rigs in Operation, Total (Number of Rigs)'], errors='coerce')\n",
    "modified_drillrig_df['Natural Gas Rotary Rigs in Operation, Total (Number of Rigs)'] = pd.to_numeric(modified_drillrig_df['Natural Gas Rotary Rigs in Operation, Total (Number of Rigs)'], errors='coerce')\n",
    "modified_drillrig_df['Crude Oil and Natural Gas Rotary Rigs in Operation, Horizontal Trajectory (Number of Rigs)'] = pd.to_numeric(modified_drillrig_df['Crude Oil and Natural Gas Rotary Rigs in Operation, Horizontal Trajectory (Number of Rigs)'], errors='coerce')\n",
    "modified_drillrig_df['Crude Oil and Natural Gas Rotary Rigs in Operation, Directional Trajectory (Number of Rigs)'] = pd.to_numeric(modified_drillrig_df['Crude Oil and Natural Gas Rotary Rigs in Operation, Directional Trajectory (Number of Rigs)'], errors='coerce')\n",
    "modified_drillrig_df['Crude Oil and Natural Gas Rotary Rigs in Operation, Vertical Trajectory (Number of Rigs)'] = pd.to_numeric(modified_drillrig_df['Crude Oil and Natural Gas Rotary Rigs in Operation, Vertical Trajectory (Number of Rigs)'], errors='coerce')\n",
    "modified_drillrig_df['Active Well Service Rig Count (Number of Rigs)'] = pd.to_numeric(modified_drillrig_df['Active Well Service Rig Count (Number of Rigs)'], errors='coerce')"
   ]
  },
  {
   "cell_type": "markdown",
   "metadata": {},
   "source": [
    "Was there probably a better way to do that? Yes. Did I end up figuring out how to do it? Nah. Anyway, let's take a look at the info NOW!"
   ]
  },
  {
   "cell_type": "code",
   "execution_count": null,
   "metadata": {},
   "outputs": [
    {
     "name": "stdout",
     "output_type": "stream",
     "text": [
      "<class 'pandas.core.frame.DataFrame'>\n",
      "RangeIndex: 623 entries, 0 to 622\n",
      "Data columns (total 10 columns):\n",
      " #   Column                                                                                       Non-Null Count  Dtype  \n",
      "---  ------                                                                                       --------------  -----  \n",
      " 0   Month                                                                                        623 non-null    object \n",
      " 1   Crude Oil and Natural Gas Rotary Rigs in Operation, Onshore (Number of Rigs)                 623 non-null    int64  \n",
      " 2   Crude Oil and Natural Gas Rotary Rigs in Operation, Offshore (Number of Rigs)                623 non-null    int64  \n",
      " 3   Crude Oil Rotary Rigs in Operation, Total (Number of Rigs)                                   448 non-null    float64\n",
      " 4   Natural Gas Rotary Rigs in Operation, Total (Number of Rigs)                                 448 non-null    float64\n",
      " 5   Crude Oil and Natural Gas Rotary Rigs in Operation, Horizontal Trajectory (Number of Rigs)   407 non-null    float64\n",
      " 6   Crude Oil and Natural Gas Rotary Rigs in Operation, Directional Trajectory (Number of Rigs)  407 non-null    float64\n",
      " 7   Crude Oil and Natural Gas Rotary Rigs in Operation, Vertical Trajectory (Number of Rigs)     407 non-null    float64\n",
      " 8   Crude Oil and Natural Gas Rotary Rigs in Operation, Total (Number of Rigs)                   623 non-null    int64  \n",
      " 9   Active Well Service Rig Count (Number of Rigs)                                               591 non-null    float64\n",
      "dtypes: float64(6), int64(3), object(1)\n",
      "memory usage: 48.8+ KB\n"
     ]
    }
   ],
   "source": [
    "modified_drillrig_df.info()"
   ]
  },
  {
   "cell_type": "code",
   "execution_count": null,
   "metadata": {},
   "outputs": [
    {
     "data": {
      "text/plain": [
       "array([  nan,  626.,  713.,  727.,  746.,  663.,  575.,  582.,  567.,\n",
       "        562.,  554.,  568.,  565.,  512.,  518.,  490.,  507.,  455.,\n",
       "        392.,  407.,  427.,  431.,  423.,  432.,  437.,  460.,  493.,\n",
       "        532.,  541.,  514.,  492.,  478.,  484.,  498.,  497.,  506.,\n",
       "        566.,  588.,  615.,  643.,  633.,  564.,  520.,  469.,  430.,\n",
       "        483.,  472.,  451.,  433.,  457.,  400.,  378.,  381.,  370.,\n",
       "        358.,  343.,  349.,  334.,  345.,  418.,  397.,  335.,  311.,\n",
       "        315.,  320.,  323.,  350.,  368.,  441.,  453.,  425.,  356.,\n",
       "        337.,  314.,  331.,  341.,  325.,  342.,  361.,  354.,  326.,\n",
       "        322.,  328.,  301.,  327.,  333.,  332.,  330.,  295.,  283.,\n",
       "        286.,  288.,  298.,  290.,  297.,  363.,  377.,  373.,  379.,\n",
       "        396.,  382.,  409.,  390.,  380.,  291.,  272.,  267.,  264.,\n",
       "        226.,  215.,  214.,  190.,  155.,  125.,  117.,  114.,  136.,\n",
       "        124.,  108.,  111.,  130.,  137.,  145.,  161.,  143.,  147.,\n",
       "        173.,  196.,  199.,  201.,  208.,  206.,  212.,  234.,  242.,\n",
       "        239.,  237.,  248.,  247.,  235.,  219.,  220.,  198.,  174.,\n",
       "        141.,  144.,  134.,  138.,  133.,  122.,  140.,  146.,  132.,\n",
       "        153.,  171.,  185.,  167.,  152.,  154.,  158.,  164.,  156.,\n",
       "        170.,  166.,  183.,  180.,  178.,  192.,  186.,  150.,  210.,\n",
       "        217.,  253.,  209.,  244.,  259.,  261.,  285.,  316.,  305.,\n",
       "        281.,  270.,  266.,  282.,  306.,  302.,  321.,  338.,  375.,\n",
       "        383.,  417.,  422.,  426.,  391.,  271.,  225.,  187.,  194.,\n",
       "        245.,  279.,  293.,  312.,  362.,  404.,  446.,  471.,  508.,\n",
       "        591.,  644.,  668.,  693.,  723.,  759.,  793.,  801.,  830.,\n",
       "        896.,  948.,  979., 1014., 1055., 1063., 1077., 1125., 1177.,\n",
       "       1208., 1261., 1307., 1329., 1373., 1409., 1419., 1423., 1407.,\n",
       "       1385., 1358., 1318., 1332., 1339., 1374., 1404., 1396., 1388.,\n",
       "       1364., 1384., 1403., 1424., 1466., 1515., 1530., 1545., 1560.,\n",
       "       1578., 1592., 1593., 1573., 1539., 1362., 1050.,  857.,  750.,\n",
       "        662.,  634.,  649.,  673.,  650.,  597.,  537.,  510.,  384.,\n",
       "        348.,  359.,  416.,  436.,  462.,  542.,  593.,  685.,  714.,\n",
       "        747.,  765.,  764.,  752.,  741.,  738.,  748.,  788.,  799.,\n",
       "        817.,  845.,  861.,  864.,  870.,  884.,  880.,  866.,  853.,\n",
       "        824.,  802.,  790.,  782.,  760.,  726.,  708.,  678.,  671.,\n",
       "        181.,  204.,  260.,  287.,  353.,  367.,  439.,  458.,  475.,\n",
       "        525.,  546.,  583.,  599.,  601.,  598.,  609.,  621.,  623.,\n",
       "        616.,  604.,  590.,  580.,  551.,  534.,  521.,  501.,  499.,\n",
       "        500.,  486.,  479.,  481.])"
      ]
     },
     "execution_count": 47,
     "metadata": {},
     "output_type": "execute_result"
    }
   ],
   "source": [
    "modified_drillrig_df['Crude Oil Rotary Rigs in Operation, Total (Number of Rigs)'].unique()"
   ]
  },
  {
   "cell_type": "markdown",
   "metadata": {},
   "source": [
    "And now, as we can see everything is now numeric AND we've replaced the 'Not Availble' with np.nan. Fantastic. Just to conclude and make it easier - basically, to clean this data all that needed to happen was to make the data numeric and coerce errors to np.nan!"
   ]
  },
  {
   "cell_type": "markdown",
   "metadata": {},
   "source": [
    "### Q3.2"
   ]
  },
  {
   "cell_type": "markdown",
   "metadata": {},
   "source": [
    "Oh, okay. So I was kinda right earlier when I said datetime. Well cool - time to make this a datetime then!"
   ]
  },
  {
   "cell_type": "code",
   "execution_count": null,
   "metadata": {},
   "outputs": [],
   "source": [
    "time_modified_drillrig_df = modified_drillrig_df.copy()\n",
    "time_modified_drillrig_df['Month'] = pd.to_datetime(time_modified_drillrig_df['Month'], format='mixed')"
   ]
  },
  {
   "cell_type": "code",
   "execution_count": null,
   "metadata": {},
   "outputs": [
    {
     "name": "stdout",
     "output_type": "stream",
     "text": [
      "<class 'pandas.core.frame.DataFrame'>\n",
      "RangeIndex: 623 entries, 0 to 622\n",
      "Data columns (total 10 columns):\n",
      " #   Column                                                                                       Non-Null Count  Dtype         \n",
      "---  ------                                                                                       --------------  -----         \n",
      " 0   Month                                                                                        623 non-null    datetime64[ns]\n",
      " 1   Crude Oil and Natural Gas Rotary Rigs in Operation, Onshore (Number of Rigs)                 623 non-null    int64         \n",
      " 2   Crude Oil and Natural Gas Rotary Rigs in Operation, Offshore (Number of Rigs)                623 non-null    int64         \n",
      " 3   Crude Oil Rotary Rigs in Operation, Total (Number of Rigs)                                   448 non-null    float64       \n",
      " 4   Natural Gas Rotary Rigs in Operation, Total (Number of Rigs)                                 448 non-null    float64       \n",
      " 5   Crude Oil and Natural Gas Rotary Rigs in Operation, Horizontal Trajectory (Number of Rigs)   407 non-null    float64       \n",
      " 6   Crude Oil and Natural Gas Rotary Rigs in Operation, Directional Trajectory (Number of Rigs)  407 non-null    float64       \n",
      " 7   Crude Oil and Natural Gas Rotary Rigs in Operation, Vertical Trajectory (Number of Rigs)     407 non-null    float64       \n",
      " 8   Crude Oil and Natural Gas Rotary Rigs in Operation, Total (Number of Rigs)                   623 non-null    int64         \n",
      " 9   Active Well Service Rig Count (Number of Rigs)                                               591 non-null    float64       \n",
      "dtypes: datetime64[ns](1), float64(6), int64(3)\n",
      "memory usage: 48.8 KB\n"
     ]
    }
   ],
   "source": [
    "time_modified_drillrig_df.info()"
   ]
  },
  {
   "cell_type": "code",
   "execution_count": null,
   "metadata": {},
   "outputs": [
    {
     "data": {
      "text/plain": [
       "<DatetimeArray>\n",
       "['1973-01-01 00:00:00', '1973-02-01 00:00:00', '1973-03-01 00:00:00',\n",
       " '1973-04-01 00:00:00', '1973-05-01 00:00:00', '1973-06-01 00:00:00',\n",
       " '1973-07-01 00:00:00', '1973-08-01 00:00:00', '1973-09-01 00:00:00',\n",
       " '1973-10-01 00:00:00',\n",
       " ...\n",
       " '2024-02-01 00:00:00', '2024-03-01 00:00:00', '2024-04-01 00:00:00',\n",
       " '2024-05-01 00:00:00', '2024-06-01 00:00:00', '2024-07-01 00:00:00',\n",
       " '2024-08-01 00:00:00', '2024-09-01 00:00:00', '2024-10-01 00:00:00',\n",
       " '2024-11-01 00:00:00']\n",
       "Length: 623, dtype: datetime64[ns]"
      ]
     },
     "execution_count": 49,
     "metadata": {},
     "output_type": "execute_result"
    }
   ],
   "source": [
    "time_modified_drillrig_df['Month'].unique()"
   ]
  },
  {
   "cell_type": "markdown",
   "metadata": {},
   "source": [
    "Great. Now the `Month` is a datetime!"
   ]
  },
  {
   "cell_type": "markdown",
   "metadata": {},
   "source": [
    "### Q3.3"
   ]
  },
  {
   "cell_type": "code",
   "execution_count": null,
   "metadata": {},
   "outputs": [
    {
     "data": {
      "image/png": "[encoded data removed]",
      "text/plain": [
       "<Figure size 640x480 with 1 Axes>"
      ]
     },
     "metadata": {},
     "output_type": "display_data"
    }
   ],
   "source": [
    "well_service_plot = sns.lineplot(data=time_modified_drillrig_df, x='Month', y='Active Well Service Rig Count (Number of Rigs)').set(title='Active Well Service Rig Count Over Time', xlabel='Year', ylabel='Active Well Service Rig Count')"
   ]
  },
  {
   "cell_type": "markdown",
   "metadata": {},
   "source": [
    "I see that there was steady increase from the first date of this data up until around 1980, where there was a spike of active well service rigs. Then, there was a bit of a dip somewhere around 1983, then an increase back up again, until it dipped hard in what looks like 1987. From there it goes up and down between 1990 to about 1998, where it then starts declining with some slight increases here and there until the number of active rigs reaches its global minimum in 2020 and is slightly increasing once again."
   ]
  },
  {
   "cell_type": "markdown",
   "metadata": {},
   "source": [
    "### Q3.4"
   ]
  },
  {
   "cell_type": "code",
   "execution_count": null,
   "metadata": {},
   "outputs": [],
   "source": [
    "active_well_rig_data = time_modified_drillrig_df['Active Well Service Rig Count (Number of Rigs)'].to_numpy() # idk I'm just doing what the EDA ipynb says\n",
    "t = len(active_well_rig_data)\n",
    "diff = active_well_rig_data[1:] - active_well_rig_data[:(t-1)]"
   ]
  },
  {
   "cell_type": "code",
   "execution_count": null,
   "metadata": {},
   "outputs": [
    {
     "data": {
      "image/png": "[encoded data removed]",
      "text/plain": [
       "<Figure size 640x480 with 1 Axes>"
      ]
     },
     "metadata": {},
     "output_type": "display_data"
    }
   ],
   "source": [
    "difference_plot = sns.lineplot(x=time_modified_drillrig_df['Month'][1:], y=diff).set(title='Difference in Active Well Service Rig Count Over Time', xlabel='Year', ylabel='Difference in Active Well Service Rig Count')"
   ]
  },
  {
   "cell_type": "markdown",
   "metadata": {},
   "source": [
    "I see that the difference in active well service rig count over time has those peaks of upturn and downturn as you can see them. This graph is *kind of* stationary at certain points with obvious volatility in other portions and a clear bias for certain sharp downturns in its variability."
   ]
  },
  {
   "cell_type": "markdown",
   "metadata": {},
   "source": [
    "### Q3.5"
   ]
  },
  {
   "cell_type": "markdown",
   "metadata": {},
   "source": [
    "OK. So I'm going to filter only the onshore and offshore rigs columns, as well as the Month column then for this so that we aren't melting other columns we don't care about."
   ]
  },
  {
   "cell_type": "code",
   "execution_count": null,
   "metadata": {},
   "outputs": [],
   "source": [
    "onshore_offshore_series_data = time_modified_drillrig_df[['Month', 'Crude Oil and Natural Gas Rotary Rigs in Operation, Onshore (Number of Rigs)', 'Crude Oil and Natural Gas Rotary Rigs in Operation, Offshore (Number of Rigs)']]\n",
    "melted_data = onshore_offshore_series_data.melt(id_vars='Month')"
   ]
  },
  {
   "cell_type": "code",
   "execution_count": null,
   "metadata": {},
   "outputs": [
    {
     "data": {
      "text/html": [
       "<div>\n",
       "<style scoped>\n",
       "    .dataframe tbody tr th:only-of-type {\n",
       "        vertical-align: middle;\n",
       "    }\n",
       "\n",
       "    .dataframe tbody tr th {\n",
       "        vertical-align: top;\n",
       "    }\n",
       "\n",
       "    .dataframe thead th {\n",
       "        text-align: right;\n",
       "    }\n",
       "</style>\n",
       "<table border=\"1\" class=\"dataframe\">\n",
       "  <thead>\n",
       "    <tr style=\"text-align: right;\">\n",
       "      <th></th>\n",
       "      <th>Month</th>\n",
       "      <th>variable</th>\n",
       "      <th>value</th>\n",
       "    </tr>\n",
       "  </thead>\n",
       "  <tbody>\n",
       "    <tr>\n",
       "      <th>0</th>\n",
       "      <td>1973-01-01</td>\n",
       "      <td>Crude Oil and Natural Gas Rotary Rigs in Opera...</td>\n",
       "      <td>1120</td>\n",
       "    </tr>\n",
       "    <tr>\n",
       "      <th>1</th>\n",
       "      <td>1973-02-01</td>\n",
       "      <td>Crude Oil and Natural Gas Rotary Rigs in Opera...</td>\n",
       "      <td>1037</td>\n",
       "    </tr>\n",
       "    <tr>\n",
       "      <th>2</th>\n",
       "      <td>1973-03-01</td>\n",
       "      <td>Crude Oil and Natural Gas Rotary Rigs in Opera...</td>\n",
       "      <td>959</td>\n",
       "    </tr>\n",
       "    <tr>\n",
       "      <th>3</th>\n",
       "      <td>1973-04-01</td>\n",
       "      <td>Crude Oil and Natural Gas Rotary Rigs in Opera...</td>\n",
       "      <td>914</td>\n",
       "    </tr>\n",
       "    <tr>\n",
       "      <th>4</th>\n",
       "      <td>1973-05-01</td>\n",
       "      <td>Crude Oil and Natural Gas Rotary Rigs in Opera...</td>\n",
       "      <td>974</td>\n",
       "    </tr>\n",
       "  </tbody>\n",
       "</table>\n",
       "</div>"
      ],
      "text/plain": [
       "       Month                                           variable  value\n",
       "0 1973-01-01  Crude Oil and Natural Gas Rotary Rigs in Opera...   1120\n",
       "1 1973-02-01  Crude Oil and Natural Gas Rotary Rigs in Opera...   1037\n",
       "2 1973-03-01  Crude Oil and Natural Gas Rotary Rigs in Opera...    959\n",
       "3 1973-04-01  Crude Oil and Natural Gas Rotary Rigs in Opera...    914\n",
       "4 1973-05-01  Crude Oil and Natural Gas Rotary Rigs in Opera...    974"
      ]
     },
     "execution_count": 68,
     "metadata": {},
     "output_type": "execute_result"
    }
   ],
   "source": [
    "melted_data.head()"
   ]
  },
  {
   "cell_type": "code",
   "execution_count": null,
   "metadata": {},
   "outputs": [
    {
     "data": {
      "text/plain": [
       "<matplotlib.legend.Legend at 0x1ae5d32ee90>"
      ]
     },
     "execution_count": 70,
     "metadata": {},
     "output_type": "execute_result"
    },
    {
     "data": {
      "image/png": "[encoded data removed]",
      "text/plain": [
       "<Figure size 640x480 with 1 Axes>"
      ]
     },
     "metadata": {},
     "output_type": "display_data"
    }
   ],
   "source": [
    "melted_plot = sns.lineplot(data=melted_data, x='Month', y='value', hue='variable').set(title='Onshore vs Offshore Rigs Over Time', xlabel='Year', ylabel='Number of Rigs')\n",
    "# I also gotta move this legend because it's cutting off the graph and that looks really bad - stole this from earlier :)\n",
    "plt.legend(bbox_to_anchor=(1.05, 1))"
   ]
  },
  {
   "cell_type": "markdown",
   "metadata": {},
   "source": [
    "And this question doesn't ask for anything else here, so we'll stop there! Here's the melted plot :)"
   ]
  }
 ],
 "metadata": {
  "kernelspec": {
   "display_name": "venv",
   "language": "python",
   "name": "python3"
  },
  "language_info": {
   "codemirror_mode": {
    "name": "ipython",
    "version": 3
   },
   "file_extension": ".py",
   "mimetype": "text/x-python",
   "name": "python",
   "nbconvert_exporter": "python",
   "pygments_lexer": "ipython3",
   "version": "3.13.3"
  }
 },
 "nbformat": 4,
 "nbformat_minor": 2
}
